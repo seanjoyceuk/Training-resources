{
 "cells": [
  {
   "cell_type": "code",
   "execution_count": 6,
   "metadata": {},
   "outputs": [
    {
     "data": {
      "text/plain": [
       "'\\nControl Flow\\n\\n== equivalent to\\n!= not equivalent to\\n< less than\\n> greater than\\n<= less than or equal to\\n>= greater than or equal to\\n'"
      ]
     },
     "execution_count": 6,
     "metadata": {},
     "output_type": "execute_result"
    }
   ],
   "source": [
    "'''\n",
    "Control Flow\n",
    "\n",
    "== equivalent to\n",
    "!= not equivalent to\n",
    "< less than\n",
    "> greater than\n",
    "<= less than or equal to\n",
    ">= greater than or equal to\n",
    "'''"
   ]
  },
  {
   "cell_type": "code",
   "execution_count": 1,
   "metadata": {},
   "outputs": [
    {
     "name": "stdout",
     "output_type": "stream",
     "text": [
      "False\n"
     ]
    }
   ],
   "source": [
    "print(4==2)"
   ]
  },
  {
   "cell_type": "code",
   "execution_count": 2,
   "metadata": {},
   "outputs": [
    {
     "name": "stdout",
     "output_type": "stream",
     "text": [
      "Sean == sean\n"
     ]
    }
   ],
   "source": [
    "print(\"Sean == sean\")"
   ]
  },
  {
   "cell_type": "code",
   "execution_count": 3,
   "metadata": {},
   "outputs": [
    {
     "name": "stdout",
     "output_type": "stream",
     "text": [
      "True\n"
     ]
    }
   ],
   "source": [
    "print(\"Sean\"==\"Sean\")"
   ]
  },
  {
   "cell_type": "code",
   "execution_count": 5,
   "metadata": {},
   "outputs": [
    {
     "name": "stdout",
     "output_type": "stream",
     "text": [
      "True\n"
     ]
    }
   ],
   "source": [
    "print(True != False)"
   ]
  },
  {
   "cell_type": "code",
   "execution_count": 7,
   "metadata": {},
   "outputs": [
    {
     "data": {
      "text/plain": [
       "'\\n& = and\\n| = or\\n'"
      ]
     },
     "execution_count": 7,
     "metadata": {},
     "output_type": "execute_result"
    }
   ],
   "source": [
    "'''\n",
    "& = and\n",
    "| = or\n",
    "'''"
   ]
  },
  {
   "cell_type": "markdown",
   "metadata": {},
   "source": [
    "### If-else statements"
   ]
  },
  {
   "cell_type": "code",
   "execution_count": 10,
   "metadata": {},
   "outputs": [
    {
     "name": "stdout",
     "output_type": "stream",
     "text": [
      "Enter the weather today - Sunny, Raining or ColdCold\n",
      "Don't go nowhere\n"
     ]
    }
   ],
   "source": [
    "weather = input(\"Enter the weather today - Sunny, Raining or Cold\")\n",
    "\n",
    "if weather == \"sunny\":\n",
    "    print(\"Get out of the bleedin' house!\")\n",
    "elif weather == \"raining\":\n",
    "    print(\"Get an umbrella\")\n",
    "else:\n",
    "    print(\"Don't go nowhere\")"
   ]
  },
  {
   "cell_type": "code",
   "execution_count": 24,
   "metadata": {},
   "outputs": [
    {
     "name": "stdout",
     "output_type": "stream",
     "text": [
      "What percentage was scored on the test?56\n",
      "Second\n"
     ]
    }
   ],
   "source": [
    "# Make sure you include brackets if you are using multiple conditions\n",
    "\n",
    "test_score = int(input(\"What percentage was scored on the test?\"))\n",
    "\n",
    "if test_score >= 80:\n",
    "    print(\"Distinction\")\n",
    "elif (test_score >= 60) & (test_score < 80):\n",
    "    print(\"First\")\n",
    "elif (test_score >= 50) & (test_score < 60):\n",
    "    print(\"Second\")\n",
    "elif (test_score >= 40) & (test_score < 50):\n",
    "    print(\"Third\")\n",
    "else:\n",
    "    print(\"Fail!\")"
   ]
  },
  {
   "cell_type": "code",
   "execution_count": null,
   "metadata": {},
   "outputs": [],
   "source": [
    "# Loops"
   ]
  },
  {
   "cell_type": "code",
   "execution_count": 25,
   "metadata": {},
   "outputs": [
    {
     "name": "stdout",
     "output_type": "stream",
     "text": [
      "I love cake\n",
      "I love pizza\n",
      "I love pasta\n",
      "I love chocolate\n"
     ]
    }
   ],
   "source": [
    "food = [\"cake\", \"pizza\", \"pasta\", \"chocolate\"]\n",
    "\n",
    "for i in food:\n",
    "    print(\"I love\",i)"
   ]
  },
  {
   "cell_type": "code",
   "execution_count": 26,
   "metadata": {},
   "outputs": [
    {
     "name": "stdout",
     "output_type": "stream",
     "text": [
      "h\n",
      "e\n",
      "l\n",
      "l\n",
      "o\n"
     ]
    }
   ],
   "source": [
    "for i in \"hello\":\n",
    "    print(i)"
   ]
  },
  {
   "cell_type": "code",
   "execution_count": 28,
   "metadata": {},
   "outputs": [
    {
     "name": "stdout",
     "output_type": "stream",
     "text": [
      "5\n",
      "10\n",
      "15\n",
      "20\n",
      "25\n"
     ]
    }
   ],
   "source": [
    "number = [1,2,3,4,5]\n",
    "\n",
    "for i in number:\n",
    "    print (i*5)"
   ]
  },
  {
   "cell_type": "code",
   "execution_count": null,
   "metadata": {},
   "outputs": [],
   "source": []
  }
 ],
 "metadata": {
  "kernelspec": {
   "display_name": "Python 3",
   "language": "python",
   "name": "python3"
  },
  "language_info": {
   "codemirror_mode": {
    "name": "ipython",
    "version": 3
   },
   "file_extension": ".py",
   "mimetype": "text/x-python",
   "name": "python",
   "nbconvert_exporter": "python",
   "pygments_lexer": "ipython3",
   "version": "3.8.3"
  }
 },
 "nbformat": 4,
 "nbformat_minor": 4
}
