{
 "cells": [
  {
   "cell_type": "code",
   "execution_count": 3,
   "metadata": {},
   "outputs": [],
   "source": [
    "from IPython.display import Image\n",
    "import pandas as pd\n",
    "import re"
   ]
  },
  {
   "cell_type": "code",
   "execution_count": 2,
   "metadata": {},
   "outputs": [],
   "source": [
    "df = pd.read_csv('.\\data\\emails.csv')"
   ]
  },
  {
   "cell_type": "code",
   "execution_count": 11,
   "metadata": {},
   "outputs": [],
   "source": [
    "# Literal text\n",
    "\n",
    "text = 'cats are cute silly and cute cats'\n",
    "\n",
    "pattern = 'cat'\n",
    "\n"
   ]
  },
  {
   "cell_type": "code",
   "execution_count": 12,
   "metadata": {},
   "outputs": [
    {
     "data": {
      "text/plain": [
       "['cat', 'cat']"
      ]
     },
     "execution_count": 12,
     "metadata": {},
     "output_type": "execute_result"
    }
   ],
   "source": [
    "re.findall(pattern, text)"
   ]
  },
  {
   "cell_type": "code",
   "execution_count": 19,
   "metadata": {},
   "outputs": [],
   "source": [
    "text = \"I have a cat and a dog and caterpillar\"\n",
    "\n",
    "pattern = r\"\\b(cat|dog)\\w*\""
   ]
  },
  {
   "cell_type": "code",
   "execution_count": 20,
   "metadata": {},
   "outputs": [
    {
     "data": {
      "text/plain": [
       "['cat', 'dog', 'cat']"
      ]
     },
     "execution_count": 20,
     "metadata": {},
     "output_type": "execute_result"
    }
   ],
   "source": [
    "re.findall(pattern, text)"
   ]
  },
  {
   "cell_type": "markdown",
   "metadata": {},
   "source": [
    "## Anchors (starts/ends)"
   ]
  },
  {
   "cell_type": "code",
   "execution_count": 21,
   "metadata": {},
   "outputs": [],
   "source": [
    "word = \"hello world\"\n",
    "pattern = \"^hello\"\n",
    "\n",
    "# ^ indicates that it starts with hello"
   ]
  },
  {
   "cell_type": "code",
   "execution_count": 22,
   "metadata": {},
   "outputs": [
    {
     "data": {
      "text/plain": [
       "['hello']"
      ]
     },
     "execution_count": 22,
     "metadata": {},
     "output_type": "execute_result"
    }
   ],
   "source": [
    "re.findall(pattern, word)"
   ]
  },
  {
   "cell_type": "code",
   "execution_count": 25,
   "metadata": {},
   "outputs": [],
   "source": [
    "word = \"welcome hello world\"\n",
    "pattern = \"world$\"\n",
    "\n",
    "# $ indicates that it ends with world"
   ]
  },
  {
   "cell_type": "code",
   "execution_count": 26,
   "metadata": {},
   "outputs": [
    {
     "data": {
      "text/plain": [
       "['world']"
      ]
     },
     "execution_count": 26,
     "metadata": {},
     "output_type": "execute_result"
    }
   ],
   "source": [
    "re.findall(pattern, word)"
   ]
  },
  {
   "cell_type": "markdown",
   "metadata": {},
   "source": [
    "## Meta Sequences"
   ]
  },
  {
   "cell_type": "code",
   "execution_count": 27,
   "metadata": {},
   "outputs": [],
   "source": [
    "text = \"my course id for thsi course is 12345\"\n",
    "pattern = \"\\d\"\n",
    "\n",
    "# |d allows you to look for digits"
   ]
  },
  {
   "cell_type": "code",
   "execution_count": 28,
   "metadata": {},
   "outputs": [
    {
     "data": {
      "text/plain": [
       "['1', '2', '3', '4', '5']"
      ]
     },
     "execution_count": 28,
     "metadata": {},
     "output_type": "execute_result"
    }
   ],
   "source": [
    "re.findall(pattern, text)"
   ]
  },
  {
   "cell_type": "code",
   "execution_count": 29,
   "metadata": {},
   "outputs": [],
   "source": [
    "text = \"my course id for thsi course is 12345\"\n",
    "pattern = \"\\d\\d\\d\\d\\d\"\n",
    "\n",
    "# |d allows you to look for multiple digits"
   ]
  },
  {
   "cell_type": "code",
   "execution_count": 30,
   "metadata": {},
   "outputs": [
    {
     "data": {
      "text/plain": [
       "['12345']"
      ]
     },
     "execution_count": 30,
     "metadata": {},
     "output_type": "execute_result"
    }
   ],
   "source": [
    "re.findall(pattern, text)"
   ]
  },
  {
   "cell_type": "code",
   "execution_count": 33,
   "metadata": {},
   "outputs": [],
   "source": [
    "text = \"my course id for thsi course is 12345\"\n",
    "pattern = \"\\d+\"\n",
    "\n",
    "# |d allows you to search for multiple digits (greedy symbol!)"
   ]
  },
  {
   "cell_type": "code",
   "execution_count": 32,
   "metadata": {},
   "outputs": [
    {
     "data": {
      "text/plain": [
       "['12345']"
      ]
     },
     "execution_count": 32,
     "metadata": {},
     "output_type": "execute_result"
    }
   ],
   "source": [
    "re.findall(pattern, text)"
   ]
  },
  {
   "cell_type": "markdown",
   "metadata": {},
   "source": [
    "## Quantifiers"
   ]
  },
  {
   "cell_type": "code",
   "execution_count": 36,
   "metadata": {},
   "outputs": [],
   "source": [
    "text = \"my telephone number is 09884457854 and my course id is 1234\"\n",
    "pattern = \"\\d{11}\"\n",
    "\n",
    "# |d allows you to search for a specific number of multiple digits"
   ]
  },
  {
   "cell_type": "code",
   "execution_count": 37,
   "metadata": {},
   "outputs": [
    {
     "data": {
      "text/plain": [
       "['09884457854']"
      ]
     },
     "execution_count": 37,
     "metadata": {},
     "output_type": "execute_result"
    }
   ],
   "source": [
    "re.findall(pattern, text)"
   ]
  },
  {
   "cell_type": "code",
   "execution_count": 38,
   "metadata": {},
   "outputs": [
    {
     "data": {
      "text/plain": [
       "<re.Match object; span=(23, 34), match='09884457854'>"
      ]
     },
     "execution_count": 38,
     "metadata": {},
     "output_type": "execute_result"
    }
   ],
   "source": [
    "re.search(pattern, text)"
   ]
  },
  {
   "cell_type": "code",
   "execution_count": 40,
   "metadata": {},
   "outputs": [],
   "source": [
    "re.match(pattern, text)"
   ]
  },
  {
   "cell_type": "code",
   "execution_count": 47,
   "metadata": {},
   "outputs": [],
   "source": [
    "pattern1 = \"\\w+\"\n",
    "text1 = \"Course code if f456 #nlpgdp#\"\n",
    "\n",
    "# Displays all of the alphanumeric characters"
   ]
  },
  {
   "cell_type": "code",
   "execution_count": 48,
   "metadata": {},
   "outputs": [
    {
     "data": {
      "text/plain": [
       "['Course', 'code', 'if', 'f456', 'nlpgdp']"
      ]
     },
     "execution_count": 48,
     "metadata": {},
     "output_type": "execute_result"
    }
   ],
   "source": [
    "re.findall(pattern1, text1)"
   ]
  },
  {
   "cell_type": "code",
   "execution_count": 49,
   "metadata": {},
   "outputs": [
    {
     "data": {
      "text/plain": [
       "['09884457', '1234']"
      ]
     },
     "execution_count": 49,
     "metadata": {},
     "output_type": "execute_result"
    }
   ],
   "source": [
    "text = \"my telephone number is 09884457854 and my course id is 1234\"\n",
    "pattern = \"\\d{4,8}\"\n",
    "\n",
    "re.findall(pattern, text)\n",
    "\n",
    "# Returns between the range of number length specified"
   ]
  },
  {
   "cell_type": "code",
   "execution_count": 52,
   "metadata": {},
   "outputs": [
    {
     "data": {
      "text/plain": [
       "['my', 'Telephone', 'number', 'is', 'and', 'My', 'course', 'id', 'is']"
      ]
     },
     "execution_count": 52,
     "metadata": {},
     "output_type": "execute_result"
    }
   ],
   "source": [
    "text = \"my Telephone number is 09884457854 and My course id is 1234\"\n",
    "pattern = \"[a-zA-Z]+\"\n",
    "\n",
    "re.findall(pattern, text)\n",
    "\n",
    "# Find the text components"
   ]
  },
  {
   "cell_type": "code",
   "execution_count": 60,
   "metadata": {},
   "outputs": [
    {
     "data": {
      "text/plain": [
       "['09884457854', '0987-8974-897']"
      ]
     },
     "execution_count": 60,
     "metadata": {},
     "output_type": "execute_result"
    }
   ],
   "source": [
    "text = \"my Telephone number is 09884457854 and 0987-8974-897 and my course id is 1234\"\n",
    "pattern = \"\\d{11}|\\d{4}-\\d{4}-\\d{3}\"\n",
    "\n",
    "re.findall(pattern, text)\n",
    "\n",
    "# Capture telephone numbers in different formats"
   ]
  },
  {
   "cell_type": "code",
   "execution_count": 61,
   "metadata": {},
   "outputs": [
    {
     "data": {
      "text/plain": [
       "['09884457854', '0987-8974-897']"
      ]
     },
     "execution_count": 61,
     "metadata": {},
     "output_type": "execute_result"
    }
   ],
   "source": [
    "text = \"my Telephone number is 09884457854 and 0987-8974-897 and my course id is 1234\"\n",
    "pattern = \"[0-9-]{11,}\"\n",
    "\n",
    "re.findall(pattern, text)\n",
    "\n",
    "# Capture telephone numbers in different formats"
   ]
  },
  {
   "cell_type": "markdown",
   "metadata": {},
   "source": [
    "## Activity"
   ]
  },
  {
   "cell_type": "code",
   "execution_count": 67,
   "metadata": {},
   "outputs": [],
   "source": [
    "# Want to validate that emails are in the format: firstname.lastname@ons.gov.uk\n",
    "\n",
    "pattern_fn = \"[a-zA-Z]+\""
   ]
  },
  {
   "cell_type": "code",
   "execution_count": 69,
   "metadata": {},
   "outputs": [
    {
     "data": {
      "text/plain": [
       "<re.Match object; span=(0, 6), match='pragya'>"
      ]
     },
     "execution_count": 69,
     "metadata": {},
     "output_type": "execute_result"
    }
   ],
   "source": [
    "re.match(pattern_fn, 'pragya')"
   ]
  },
  {
   "cell_type": "code",
   "execution_count": 71,
   "metadata": {},
   "outputs": [
    {
     "data": {
      "text/plain": [
       "<re.Match object; span=(0, 5), match='sean.'>"
      ]
     },
     "execution_count": 71,
     "metadata": {},
     "output_type": "execute_result"
    }
   ],
   "source": [
    "pattern_fn_dot = \"[a-zA-Z]+\\.\"\n",
    "\n",
    "re.match(pattern_fn_dot, 'sean.joyce')"
   ]
  },
  {
   "cell_type": "code",
   "execution_count": 74,
   "metadata": {},
   "outputs": [
    {
     "data": {
      "text/plain": [
       "<re.Match object; span=(0, 10), match='sean.joyce'>"
      ]
     },
     "execution_count": 74,
     "metadata": {},
     "output_type": "execute_result"
    }
   ],
   "source": [
    "pattern_fn_dot_ln = \"[a-zA-Z]+\\.[a-zA-Z]+[0-9]*\"\n",
    "\n",
    "re.match(pattern_fn_dot_ln, 'sean.joyce')"
   ]
  },
  {
   "cell_type": "code",
   "execution_count": 86,
   "metadata": {},
   "outputs": [
    {
     "data": {
      "text/plain": [
       "<re.Match object; span=(0, 21), match='sean.joyce@ons.gov.uk'>"
      ]
     },
     "execution_count": 86,
     "metadata": {},
     "output_type": "execute_result"
    }
   ],
   "source": [
    "pattern_fn_dot_ln_at = \"[a-zA-Z]+\\.[a-zA-Z]+[0-9]*\\S+@\\w+\\.gov\\.uk\"\n",
    "\n",
    "re.match(pattern_fn_dot_ln_at, 'sean.joyce@ons.gov.uk')"
   ]
  },
  {
   "cell_type": "code",
   "execution_count": 88,
   "metadata": {},
   "outputs": [
    {
     "name": "stdout",
     "output_type": "stream",
     "text": [
      "prag.grt@ons.gov.uk is valid\n",
      "sean.joyce@os.gov.uk is valid\n",
      "seanjoyce@ons.gov.uk is not valid\n"
     ]
    }
   ],
   "source": [
    "emails = ['prag.grt@ons.gov.uk', 'sean.joyce@os.gov.uk', 'seanjoyce@ons.gov.uk']\n",
    "\n",
    "for email in emails:\n",
    "    if re.match(pattern_fn_dot_ln_at, email):\n",
    "        print(email, \"is valid\")\n",
    "    else:\n",
    "        print(email, \"is not valid\")"
   ]
  },
  {
   "cell_type": "code",
   "execution_count": 107,
   "metadata": {},
   "outputs": [
    {
     "name": "stdout",
     "output_type": "stream",
     "text": [
      "'1234567!' is Valid\n",
      "'12345678!' is Invalid\n",
      "'abcd1234!' is Invalid\n",
      "'12345678' is Invalid\n",
      "'12345!78' is Valid\n",
      "'1!234567' is Valid\n",
      "'a1!23456' is Invalid\n",
      "'123456!8' is Valid\n"
     ]
    }
   ],
   "source": [
    "# Password manager that identifies whether a password is 8 digits (numbers long and also contains 1 special character)\n",
    "\n",
    "\n",
    "import re\n",
    "\n",
    "# Test cases\n",
    "passwords = [\n",
    "    \"1234567!\",    # Valid: 7 digits + 1 special character\n",
    "    \"12345678!\",   # Invalid: 8 digits + 1 special character (total 9 characters)\n",
    "    \"abcd1234!\",   # Invalid: contains non-digit characters\n",
    "    \"12345678\",    # Invalid: no special character\n",
    "    \"12345!78\",    # Valid: 8 digits + 1 special character\n",
    "    \"1!234567\",    # Valid: 8 digits + 1 special character\n",
    "    \"a1!23456\",    # Invalid: contains non-digit characters\n",
    "    \"123456!8\"     # Valid: 8 digits + 1 special character\n",
    "]\n",
    "\n",
    "pattern = re.compile(r'^(?=.*[!@#$%^&*()_\\-+=<>?])[0-9!@#$%^&*()_\\-+=<>?]{8}$')\n",
    "\n",
    "for password in passwords:\n",
    "    if pattern.match(password):\n",
    "        print(f\"'{password}' is Valid\")\n",
    "    else:\n",
    "        print(f\"'{password}' is Invalid\")\n",
    "\n",
    "\n"
   ]
  },
  {
   "cell_type": "code",
   "execution_count": 108,
   "metadata": {},
   "outputs": [
    {
     "name": "stdout",
     "output_type": "stream",
     "text": [
      "'1234567!' is Valid\n",
      "'12345678!' is Invalid\n",
      "'abcd1234!' is Invalid\n",
      "'12345678' is Invalid\n",
      "'12345!78' is Valid\n",
      "'1!234567' is Valid\n",
      "'a1!23456' is Valid\n",
      "'123456!8' is Valid\n"
     ]
    }
   ],
   "source": [
    "# Password manager that identifies whether a password is 8 digits/letters long and also contains 1 special character)\n",
    "\n",
    "import re\n",
    "\n",
    "passwords = [\n",
    "    \"1234567!\",    # Valid: 7 digits + 1 special character\n",
    "    \"12345678!\",   # Invalid: 8 digits + 1 special character (total 9 characters)\n",
    "    \"abcd1234!\",   # Invalid: 8 letters/digits + 1 special character\n",
    "    \"12345678\",    # Invalid: no special character\n",
    "    \"12345!78\",    # Valid: 7 digits + 1 special character\n",
    "    \"1!234567\",    # Valid: 7 digits + 1 special character\n",
    "    \"a1!23456\",    # Valid: 6 digits/letters + 1 special character\n",
    "    \"123456!8\"     # Valid: 7 digits + 1 special character\n",
    "]\n",
    "\n",
    "pattern = re.compile(r'^(?=.*[!@#$%^&*()_\\-+=<>?])[a-zA-Z0-9!@#$%^&*()_\\-+=<>?]{8}$')\n",
    "\n",
    "for password in passwords:\n",
    "    if pattern.match(password):\n",
    "        print(f\"'{password}' is Valid\")\n",
    "    else:\n",
    "        print(f\"'{password}' is Invalid\")\n"
   ]
  },
  {
   "cell_type": "code",
   "execution_count": null,
   "metadata": {},
   "outputs": [],
   "source": []
  }
 ],
 "metadata": {
  "kernelspec": {
   "display_name": "Python 3.10.13 ('grad_prog')",
   "language": "python",
   "name": "python3"
  },
  "language_info": {
   "codemirror_mode": {
    "name": "ipython",
    "version": 3
   },
   "file_extension": ".py",
   "mimetype": "text/x-python",
   "name": "python",
   "nbconvert_exporter": "python",
   "pygments_lexer": "ipython3",
   "version": "3.10.13"
  },
  "orig_nbformat": 4,
  "vscode": {
   "interpreter": {
    "hash": "2f6f3da5bc72575a39b7e81cb6312df076a4203b1aa85d70ecab8d73eee0c231"
   }
  }
 },
 "nbformat": 4,
 "nbformat_minor": 2
}
