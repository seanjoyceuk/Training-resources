{
 "cells": [
  {
   "cell_type": "markdown",
   "id": "f789467c",
   "metadata": {},
   "source": [
    "# 02 London Borough Accessibilty To OS Open Greenspace \n",
    "---\n",
    "\n",
    "Quanitfying London Borough-accessibilty to a subset of OS Open Greenspace."
   ]
  },
  {
   "cell_type": "code",
   "execution_count": null,
   "id": "ff6683cf",
   "metadata": {},
   "outputs": [],
   "source": [
    "import geopandas as gpd\n",
    "import matplotlib.pyplot as plt\n",
    "import pandas as pd"
   ]
  },
  {
   "cell_type": "markdown",
   "id": "c6e28855",
   "metadata": {},
   "source": [
    "###  Create GeoDataFrame from GeoPackage (GPKG)"
   ]
  },
  {
   "cell_type": "code",
   "execution_count": null,
   "id": "00562cd8",
   "metadata": {},
   "outputs": [],
   "source": [
    "# Create a GeoPandas GeoDataFrame from a GeoPackage (GPKG)\n",
    "osogs = gpd.read_file(\n",
    "    filename=\"../../data/ordnance-survey/os-open-greenspace-gb.gpkg\",\n",
    "    # GPKG layer\n",
    "    layer=\"greenspace_site\",\n",
    ")"
   ]
  },
  {
   "cell_type": "markdown",
   "id": "29731ffa",
   "metadata": {},
   "source": [
    "###  Spatially subset GeoDataFrame\n",
    "\n",
    "Using coordinate-based indexer to spatially subset by bounding box (BBOX)."
   ]
  },
  {
   "cell_type": "code",
   "execution_count": null,
   "id": "362e0598",
   "metadata": {},
   "outputs": [],
   "source": [
    "# Coordinate-based indexer to select by intersection with BBOX\n",
    "# Greater London BBOX\n",
    "osogs_filtered = osogs.cx[\n",
    "    503568.1996:561957.4962, 155850.7975:200933.9026\n",
    "]  # xmin:xmax, ymin:ymax"
   ]
  },
  {
   "cell_type": "code",
   "execution_count": null,
   "id": "57b12db3",
   "metadata": {},
   "outputs": [],
   "source": [
    "# GeoDataFrame row count\n",
    "osogs_filtered.shape[0]"
   ]
  },
  {
   "cell_type": "code",
   "execution_count": null,
   "id": "9edf7309",
   "metadata": {},
   "outputs": [],
   "source": [
    "osogs_filtered.head()"
   ]
  },
  {
   "cell_type": "markdown",
   "id": "94af41c8",
   "metadata": {},
   "source": [
    "### Subset GeoDataFrame by function\n",
    "\n",
    "Filter OS Open Greenspace retaining only features where the function column is equal to 'Playing Field' or 'Public Park And Garden'."
   ]
  },
  {
   "cell_type": "code",
   "execution_count": null,
   "id": "6fe5ddef",
   "metadata": {},
   "outputs": [],
   "source": [
    "# Subset GeoDataFrame by function\n",
    "osogs_filtered = osogs_filtered.loc[\n",
    "    (osogs_filtered[\"function\"].isin([\"Playing Field\", \"Public Park And Garden\"])),\n",
    "    [\"id\", \"function\", \"geometry\"],\n",
    "]"
   ]
  },
  {
   "cell_type": "code",
   "execution_count": null,
   "id": "9c0383a9",
   "metadata": {},
   "outputs": [],
   "source": [
    "# GeoDataFrame row count\n",
    "osogs_filtered.shape[0]"
   ]
  },
  {
   "cell_type": "code",
   "execution_count": null,
   "id": "ebea09ef",
   "metadata": {},
   "outputs": [],
   "source": [
    "osogs_filtered.head()"
   ]
  },
  {
   "cell_type": "code",
   "execution_count": null,
   "id": "f68cd4df",
   "metadata": {},
   "outputs": [],
   "source": [
    "# Create a GeoPandas GeoDataFrame from a GeoPackage (GPKG)\n",
    "lad = gpd.read_file(\n",
    "    filename=\"../../data/office-for-national-statistics/local-authority-districts-dec-2021-gb-bfc.gpkg\",\n",
    "    # GPKG layer\n",
    "    layer=\"LAD_DEC_2021_GB_BFC\",\n",
    ")"
   ]
  },
  {
   "cell_type": "code",
   "execution_count": null,
   "id": "0a2125bc",
   "metadata": {},
   "outputs": [],
   "source": [
    "# List columns\n",
    "lad.columns"
   ]
  },
  {
   "cell_type": "code",
   "execution_count": null,
   "id": "b7cc4c83",
   "metadata": {},
   "outputs": [],
   "source": [
    "# Head of GeoDataFrame\n",
    "lad.head()"
   ]
  },
  {
   "cell_type": "code",
   "execution_count": null,
   "id": "528ba56e",
   "metadata": {},
   "outputs": [],
   "source": [
    "# Row count\n",
    "lad.shape[0]"
   ]
  },
  {
   "cell_type": "code",
   "execution_count": null,
   "id": "f5753fd5",
   "metadata": {},
   "outputs": [],
   "source": [
    "# Create figure and axes objects\n",
    "f, ax = plt.subplots(figsize=(5, 10))\n",
    "\n",
    "# Set title\n",
    "ax.set_title(\"Local Authority District (LAD) Boundaries 2021\")\n",
    "# Turn axis off\n",
    "ax.set_axis_off()\n",
    "\n",
    "# Plot GeoDataFrame\n",
    "lad.plot(ax=ax, color=\"#af58ba\");"
   ]
  },
  {
   "cell_type": "code",
   "execution_count": null,
   "id": "4667b16c",
   "metadata": {},
   "outputs": [],
   "source": [
    "# Rename GeoDataFrame columns\n",
    "lad.rename(columns={\"LAD21CD\": \"lad21cd\", \"LAD21NM\": \"lad21nm\"}, inplace=True)"
   ]
  },
  {
   "cell_type": "code",
   "execution_count": null,
   "id": "4fecad31",
   "metadata": {},
   "outputs": [],
   "source": [
    "# Subset GeoDataFrame columns\n",
    "lad = lad[[\"lad21cd\", \"lad21nm\", \"geometry\"]]"
   ]
  },
  {
   "cell_type": "code",
   "execution_count": null,
   "id": "0175b968",
   "metadata": {},
   "outputs": [],
   "source": [
    "lad.head()"
   ]
  },
  {
   "cell_type": "code",
   "execution_count": null,
   "id": "100c742e",
   "metadata": {},
   "outputs": [],
   "source": [
    "# Count rows by geometry type\n",
    "lad[\"geometry\"].geom_type.value_counts()"
   ]
  },
  {
   "cell_type": "code",
   "execution_count": null,
   "id": "09909c87",
   "metadata": {},
   "outputs": [],
   "source": [
    "# Count rows by validity\n",
    "lad[\"geometry\"].is_valid.value_counts()"
   ]
  },
  {
   "cell_type": "markdown",
   "id": "d2d50f49",
   "metadata": {},
   "source": [
    "### Spatial join \n",
    "\n",
    "Compute the intersection (shared geometry) between OS Open Greenspace and Local Authority District boundaries."
   ]
  },
  {
   "cell_type": "code",
   "execution_count": null,
   "id": "5fd5de39",
   "metadata": {},
   "outputs": [],
   "source": [
    "# Join OS Open Greenspace to LAD boundaries\n",
    "osogs_filtered2lad = osogs_filtered.overlay(lad, how=\"intersection\")\n",
    "\n",
    "# Head of GeoDataFrame\n",
    "osogs_filtered2lad.head()"
   ]
  },
  {
   "cell_type": "code",
   "execution_count": null,
   "id": "07c098dc",
   "metadata": {},
   "outputs": [],
   "source": [
    "# Whats going on...\n",
    "osogs_filtered2lad.groupby(\"id\")\\\n",
    ".agg(green_space_id_count =('id','count'))\\\n",
    ".reset_index(drop = False)\\\n",
    ".sort_values(by = 'green_space_id_count', ascending = False)"
   ]
  },
  {
   "cell_type": "code",
   "execution_count": null,
   "id": "35de6807",
   "metadata": {},
   "outputs": [],
   "source": [
    "osogs_filtered2lad[osogs_filtered2lad['id'] == '0295ED34-679C-5C37-E063-AAEFA00A445E']#.plot(column = 'lad21cd')"
   ]
  },
  {
   "cell_type": "markdown",
   "id": "d745f0a1",
   "metadata": {},
   "source": [
    "### Add `greenspace_area` column"
   ]
  },
  {
   "cell_type": "code",
   "execution_count": null,
   "id": "4a5cc278",
   "metadata": {},
   "outputs": [],
   "source": [
    "osogs_filtered2lad[\"greenspace_area\"] = osogs_filtered2lad[\"geometry\"].area"
   ]
  },
  {
   "cell_type": "code",
   "execution_count": null,
   "id": "3eb21351",
   "metadata": {},
   "outputs": [],
   "source": [
    "# List columns\n",
    "osogs_filtered2lad.head()"
   ]
  },
  {
   "cell_type": "markdown",
   "id": "282c2b19",
   "metadata": {},
   "source": [
    "### Sum areas by LAD"
   ]
  },
  {
   "cell_type": "code",
   "execution_count": null,
   "id": "8b0047e4",
   "metadata": {},
   "outputs": [],
   "source": [
    "osogs_filtered2lad_grouped = (\n",
    "    osogs_filtered2lad.groupby([\"lad21cd\", \"lad21nm\"])[\"greenspace_area\"]\n",
    "    .sum()\n",
    "    .reset_index()\n",
    ")\n",
    "\n",
    "osogs_filtered2lad_grouped.head()"
   ]
  },
  {
   "cell_type": "code",
   "execution_count": null,
   "id": "4455889c",
   "metadata": {},
   "outputs": [],
   "source": [
    "len(osogs_filtered2lad_grouped)"
   ]
  },
  {
   "cell_type": "markdown",
   "id": "6aea9bbd",
   "metadata": {},
   "source": [
    "### Create DataFrame from Excel\n",
    "\n",
    "Read the latest Office for National Statistics (ONS) mid-year population estimates for Local Authority District (LAD) boundaries."
   ]
  },
  {
   "cell_type": "code",
   "execution_count": null,
   "id": "6a1c08f3",
   "metadata": {},
   "outputs": [],
   "source": [
    "# Create Pandas DataFrame from Excel\n",
    "pop_est = pd.read_excel(\n",
    "    io=\"../../data/office-for-national-statistics/uk-population-estimates-mid-2021.xls\",\n",
    "    sheet_name=\"MYE2 - Persons\",\n",
    "    skiprows=7,\n",
    ")\n",
    "\n",
    "# Return head of DataFrame\n",
    "pop_est.head()"
   ]
  },
  {
   "cell_type": "code",
   "execution_count": null,
   "id": "b1099c55",
   "metadata": {},
   "outputs": [],
   "source": [
    "# List DataFrame columns\n",
    "pop_est.columns"
   ]
  },
  {
   "cell_type": "code",
   "execution_count": null,
   "id": "dec3a6aa",
   "metadata": {},
   "outputs": [],
   "source": [
    "# Count rows by Geography classes\n",
    "pop_est[\"Geography\"].value_counts()"
   ]
  },
  {
   "cell_type": "code",
   "execution_count": null,
   "id": "cb7a7594",
   "metadata": {},
   "outputs": [],
   "source": [
    "# Subset rows where Geography column is equal to 'London Borough'\n",
    "pop_est = pop_est.loc[\n",
    "    (pop_est[\"Geography\"] == \"London Borough\"), [\"Code\", \"Name\", \"All ages\"]\n",
    "]\n",
    "\n",
    "# Rename columns\n",
    "pop_est.rename(\n",
    "    columns={\"Code\": \"lad21cd\", \"Name\": \"lad21nm\", \"All ages\": \"population\"},\n",
    "    inplace=True,\n",
    ")"
   ]
  },
  {
   "cell_type": "code",
   "execution_count": null,
   "id": "9651411f",
   "metadata": {},
   "outputs": [],
   "source": [
    "# Return head of DataFrame\n",
    "pop_est.head()"
   ]
  },
  {
   "cell_type": "code",
   "execution_count": null,
   "id": "a8f7c147",
   "metadata": {},
   "outputs": [],
   "source": [
    "lad.head()"
   ]
  },
  {
   "cell_type": "code",
   "execution_count": null,
   "id": "7cde59f4",
   "metadata": {},
   "outputs": [],
   "source": [
    "osogs_pop_est_lad_merged = (\n",
    "    # Start with the geometries we want to join to\n",
    "    lad\n",
    "    # Drop the lad21nm because we already have that in the populations dataframe\n",
    "    .drop(columns=[\"lad21nm\"])\n",
    "    # Join the population data\n",
    "    .merge(pop_est, on=\"lad21cd\", how=\"right\")\n",
    "    # Join to the aggregated greenspace areas\n",
    "    .merge(\n",
    "        osogs_filtered2lad_grouped.drop(columns=[\"lad21nm\"]), on=\"lad21cd\", how=\"left\"\n",
    "    )\n",
    "    # Any London boroughs without a greenspace_area value has no greenspace, so fill in the value\n",
    "    .fillna({\"greenspace_area\": 0})\n",
    ")[[\"lad21cd\", \"lad21nm\", \"greenspace_area\", \"population\", \"geometry\"]]\n",
    "\n",
    "osogs_pop_est_lad_merged.head()"
   ]
  },
  {
   "cell_type": "code",
   "execution_count": null,
   "id": "69b86678",
   "metadata": {},
   "outputs": [],
   "source": [
    "# Calculate OS Open Greenspace area per LAD per head\n",
    "osogs_pop_est_lad_merged[\"area2population\"] = (\n",
    "    osogs_pop_est_lad_merged[\"greenspace_area\"] / osogs_pop_est_lad_merged[\"population\"]\n",
    ")"
   ]
  },
  {
   "cell_type": "code",
   "execution_count": null,
   "id": "5ab97a9d",
   "metadata": {},
   "outputs": [],
   "source": [
    "# List DataFrame columns\n",
    "osogs_pop_est_lad_merged.columns"
   ]
  },
  {
   "cell_type": "code",
   "execution_count": null,
   "id": "e764ca49",
   "metadata": {},
   "outputs": [],
   "source": [
    "# Create figure and axes objects\n",
    "f, ax = plt.subplots(figsize=(8, 8))\n",
    "\n",
    "# Turn axis off\n",
    "ax.axis(\"off\")\n",
    "\n",
    "# Plot data\n",
    "osogs_pop_est_lad_merged.plot(\n",
    "    ax=ax,\n",
    "    column=\"area2population\",\n",
    "    legend=True,\n",
    "    legend_kwds={\"shrink\": 0.4, \"label\": r\"$m^2$ of greenspace per person\"},\n",
    ")"
   ]
  },
  {
   "cell_type": "code",
   "execution_count": null,
   "id": "d178528b",
   "metadata": {},
   "outputs": [],
   "source": [
    "# Write to Geopackage (GPKG) database file\n",
    "osogs_pop_est_lad_merged.to_file(\n",
    "    filename=\"../../data/lad-os-open-greenspace-area-per-head.gpkg\", driver=\"GPKG\"\n",
    ")"
   ]
  }
 ],
 "metadata": {
  "kernelspec": {
   "display_name": "training",
   "language": "python",
   "name": "training"
  },
  "language_info": {
   "codemirror_mode": {
    "name": "ipython",
    "version": 3
   },
   "file_extension": ".py",
   "mimetype": "text/x-python",
   "name": "python",
   "nbconvert_exporter": "python",
   "pygments_lexer": "ipython3",
   "version": "3.11.7"
  }
 },
 "nbformat": 4,
 "nbformat_minor": 5
}
