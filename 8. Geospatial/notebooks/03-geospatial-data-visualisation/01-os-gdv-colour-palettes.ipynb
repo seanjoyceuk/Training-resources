{
 "cells": [
  {
   "cell_type": "markdown",
   "id": "f515030d",
   "metadata": {},
   "source": [
    "# 01 OS GeoDataViz Colour Palettes\n",
    "---\n",
    "\n",
    "Using the OS GeoDataViz Toolkit to assist with the styling of location data insights."
   ]
  },
  {
   "cell_type": "markdown",
   "id": "e77fad81",
   "metadata": {},
   "source": [
    "### OS GeoDataViz Toolkit\n",
    "---\n",
    "\n",
    "The [OS GeoDataViz (GDV) Toolkit](https://github.com/OrdnanceSurvey/GeoDataViz-Toolkit) provides a set of resources to help you communicate your data effectively through the design of compelling visuals.\n",
    "\n",
    "The toolkit provides a series of colour palettes with provide a great starting point for thematic map design.\n",
    "The palettes can be programatically accessed via a JSON copy in the repo."
   ]
  },
  {
   "cell_type": "markdown",
   "id": "85d75429",
   "metadata": {},
   "source": [
    "### Qualitative Styling\n",
    "---\n",
    "\n",
    "When styling qualitative (categorical) data we need to be mindful of the number of distinct classes. The GDV qualitative colours supports up to eight classes. Beyond approx. ten classes it becomes very difficult to design a palette that preserves the seperation between colours allowing clear class identification."
   ]
  },
  {
   "cell_type": "code",
   "execution_count": null,
   "id": "5a6b6623",
   "metadata": {},
   "outputs": [],
   "source": [
    "import geopandas as gpd\n",
    "import requests\n",
    "from datetime import datetime\n",
    "from folium import Map\n",
    "from folium.plugins import FloatImage\n",
    "from matplotlib.colors import ListedColormap"
   ]
  },
  {
   "cell_type": "markdown",
   "id": "e0a96c64",
   "metadata": {},
   "source": [
    "###  Create GeoDataFrame from GeoPackage (GPKG)"
   ]
  },
  {
   "cell_type": "code",
   "execution_count": null,
   "id": "4ac0f580",
   "metadata": {},
   "outputs": [],
   "source": [
    "# Create a GeoPandas GeoDataFrame from a GeoPackage (GPKG)\n",
    "osogs = gpd.read_file(\n",
    "    filename=\"../../data/ordnance-survey/os-open-greenspace-gb.gpkg\",\n",
    "    # GPKG layer\n",
    "    layer=\"greenspace_site\",\n",
    ")"
   ]
  },
  {
   "cell_type": "markdown",
   "id": "a31d8547",
   "metadata": {},
   "source": [
    "###  Spatially subset GeoDataFrame\n",
    "\n",
    "Using coordinate-based indexer to spatially subset by bounding box (BBOX)."
   ]
  },
  {
   "cell_type": "code",
   "execution_count": null,
   "id": "63228b3c",
   "metadata": {},
   "outputs": [],
   "source": [
    "# Coordinate-based indexer to select by intersection with BBOX\n",
    "# Greater London BBOX\n",
    "osogs_filtered = osogs.cx[\n",
    "    503568.1996:561957.4962, 155850.7975:200933.9026\n",
    "]  # xmin:xmax, ymin:ymax"
   ]
  },
  {
   "cell_type": "code",
   "execution_count": null,
   "id": "4214ca8c",
   "metadata": {},
   "outputs": [],
   "source": [
    "osogs_filtered.head()"
   ]
  },
  {
   "cell_type": "code",
   "execution_count": null,
   "id": "e36c99d8",
   "metadata": {},
   "outputs": [],
   "source": [
    "osogs_filtered[\"function\"].unique()"
   ]
  },
  {
   "cell_type": "code",
   "execution_count": null,
   "id": "36fd6e65",
   "metadata": {},
   "outputs": [],
   "source": [
    "# Count number of unique function values\n",
    "osogs_filtered[\"function\"].nunique()"
   ]
  },
  {
   "cell_type": "markdown",
   "id": "8ff85cd0",
   "metadata": {},
   "source": [
    "### Subset GeoDataFrame by function\n",
    "\n",
    "Reduce the number of function categories to support qualitative styling colour palette integration."
   ]
  },
  {
   "cell_type": "code",
   "execution_count": null,
   "id": "c02b85fa",
   "metadata": {},
   "outputs": [],
   "source": [
    "# Subset GeoDataFrame by function excluding 'Play Space' and 'Tennis Court'\n",
    "osogs_filtered = osogs_filtered.loc[\n",
    "    # ~ anti conditional\n",
    "    ~(osogs_filtered[\"function\"].isin([\"Play Space\", \"Tennis Court\"]))\n",
    "]"
   ]
  },
  {
   "cell_type": "code",
   "execution_count": null,
   "id": "ba548505",
   "metadata": {},
   "outputs": [],
   "source": [
    "# List unique function classes\n",
    "osogs_filtered[\"function\"].unique()"
   ]
  },
  {
   "cell_type": "code",
   "execution_count": null,
   "id": "95db7036",
   "metadata": {},
   "outputs": [],
   "source": [
    "# Count number of unique function values\n",
    "osogs_filtered[\"function\"].nunique()"
   ]
  },
  {
   "cell_type": "markdown",
   "id": "40a3781c",
   "metadata": {},
   "source": [
    "### OS Maps API ZXY resource"
   ]
  },
  {
   "cell_type": "code",
   "execution_count": null,
   "id": "fe37c5ac",
   "metadata": {},
   "outputs": [],
   "source": [
    "# OS Maps API layer name\n",
    "# Example uses Light Style in Web Mercator (EPSG:3857) projection\n",
    "layer = \"Light_3857\"\n",
    "# OS Data Hub project API key\n",
    "key = \"frKhvBUiMB5DGwl3pGb2GzcOz6ApgyP0\"\n",
    "# OS Data Hub base path - https://api.os.uk\n",
    "# OS Maps API ZXY end point path - /maps/raster/v1/zxy/\n",
    "url = f\"https://api.os.uk/maps/raster/v1/zxy/{layer}/{{z}}/{{x}}/{{y}}.png?key={key}\"\n",
    "\n",
    "# OS logo image\n",
    "logo_url = \"https://raw.githubusercontent.com/OrdnanceSurvey/os-api-branding/master/img/os-logo-maps.svg\"\n",
    "\n",
    "# Folium FloatImage plugin for displaying image on Map\n",
    "image = FloatImage(logo_url, bottom=1, left=1)"
   ]
  },
  {
   "cell_type": "markdown",
   "id": "a47505d2",
   "metadata": {},
   "source": [
    "### Create custom folium map"
   ]
  },
  {
   "cell_type": "code",
   "execution_count": null,
   "id": "e88b208d",
   "metadata": {},
   "outputs": [],
   "source": [
    "# Create Folium map\n",
    "m = Map(\n",
    "    location=[\n",
    "        51.507,\n",
    "        -0.105,\n",
    "    ],  # Map centre coordinates (by convention latitude (y), longitude (x))\n",
    "    tiles=url,\n",
    "    attr=f\"Contains OS data &copy; Crown copyright and database rights {datetime.now().year}\",  # OS Data Hub attribution statement\n",
    "    min_zoom=7,  # See EPSG:3857 Tile Matrix Set - https://osdatahub.os.uk/docs/wmts/technicalSpecification\n",
    "    max_zoom=16,\n",
    "    zoom_start=12,\n",
    ")\n",
    "\n",
    "# Add image to Map\n",
    "image.add_to(m)"
   ]
  },
  {
   "cell_type": "markdown",
   "id": "0108e3c0",
   "metadata": {},
   "source": [
    "### OS GeoDataViz colour palettes\n",
    "\n",
    "The OS [GeoDataViz toolkik](https://github.com/OrdnanceSurvey/GeoDataViz-Toolkit/tree/master/Colours) provides qualitative, sequential, and diverging colour palettes to support GDV applications."
   ]
  },
  {
   "cell_type": "code",
   "execution_count": null,
   "id": "2580da03",
   "metadata": {},
   "outputs": [],
   "source": [
    "# GDV colour palettes JSON file\n",
    "gdv = \"https://raw.githubusercontent.com/OrdnanceSurvey/GeoDataViz-Toolkit/master/Colours/GDV-colour-palettes.json\"\n",
    "\n",
    "requests.get(gdv, verify=False).json()"
   ]
  },
  {
   "cell_type": "code",
   "execution_count": null,
   "id": "44aac546",
   "metadata": {},
   "outputs": [],
   "source": [
    "# Make HTTP GET request, decode JSON, and access by JSON query\n",
    "gdv_qual = requests.get(gdv, verify=False).json()[\"qualitative\"][\"lookup\"]\n",
    "\n",
    "# Generate list of integers (1-8) as strings\n",
    "colours = [str(x) for x in range(1, 9)]\n",
    "\n",
    "# Create Matplotlib colour map from GDV colours\n",
    "gdv_qual_cmap = ListedColormap(\n",
    "    colors=[gdv_qual[c] for c in colours], name=\"gdv-qual-cmap\"\n",
    ")\n",
    "\n",
    "# Return colour map\n",
    "gdv_qual_cmap"
   ]
  },
  {
   "cell_type": "code",
   "execution_count": null,
   "id": "03382fd0",
   "metadata": {},
   "outputs": [],
   "source": [
    "colours"
   ]
  },
  {
   "cell_type": "markdown",
   "id": "2deca53f",
   "metadata": {},
   "source": [
    "### Plot GeoDataFrame ontop of folium map\n",
    "\n",
    "Employ categorical styling via OS GeoDataViz (GDV) qualitative colour palette."
   ]
  },
  {
   "cell_type": "code",
   "execution_count": null,
   "id": "98dae1e0",
   "metadata": {},
   "outputs": [],
   "source": [
    "# Add GeoDataFrame to folium map\n",
    "osogs_filtered.explore(\n",
    "    column=\"function\",  # Qualitative styling based on 'function' column values\n",
    "    m=m,  # Custom folium map\n",
    "    cmap=gdv_qual_cmap,# OS GDV colour map\n",
    "    popup = False\n",
    ")  "
   ]
  }
 ],
 "metadata": {
  "kernelspec": {
   "display_name": "training",
   "language": "python",
   "name": "training"
  },
  "language_info": {
   "codemirror_mode": {
    "name": "ipython",
    "version": 3
   },
   "file_extension": ".py",
   "mimetype": "text/x-python",
   "name": "python",
   "nbconvert_exporter": "python",
   "pygments_lexer": "ipython3",
   "version": "3.11.7"
  }
 },
 "nbformat": 4,
 "nbformat_minor": 5
}
