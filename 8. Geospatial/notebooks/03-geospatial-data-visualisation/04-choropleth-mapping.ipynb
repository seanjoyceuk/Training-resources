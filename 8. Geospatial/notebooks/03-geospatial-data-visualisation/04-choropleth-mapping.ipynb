{
 "cells": [
  {
   "cell_type": "markdown",
   "id": "692ef38b",
   "metadata": {},
   "source": [
    "# 04 Choropleth Mapping\n",
    "---\n",
    "\n",
    "Viusally exploring different data classification schemes for choropleth map classification."
   ]
  },
  {
   "cell_type": "code",
   "execution_count": null,
   "id": "a1e08207",
   "metadata": {},
   "outputs": [],
   "source": [
    "import geopandas as gpd\n",
    "import matplotlib.pyplot as plt\n",
    "import requests\n",
    "from matplotlib.colors import ListedColormap"
   ]
  },
  {
   "cell_type": "markdown",
   "id": "d9c9324f",
   "metadata": {},
   "source": [
    "### Create GeoDataFrame from GeoPackage (GPKG)"
   ]
  },
  {
   "cell_type": "code",
   "execution_count": null,
   "id": "0a93bb78",
   "metadata": {},
   "outputs": [],
   "source": [
    "# Create a GeoPandas GeoDataFrame from a GeoPackage (GPKG)\n",
    "osogs_pop_est_lad_merged = gpd.read_file(\n",
    "    filename=\"../../data/lad-os-open-greenspace-area-per-head.gpkg\"\n",
    ")"
   ]
  },
  {
   "cell_type": "code",
   "execution_count": null,
   "id": "00273b89",
   "metadata": {},
   "outputs": [],
   "source": [
    "# List GeoDataFrame columns\n",
    "osogs_pop_est_lad_merged.columns"
   ]
  },
  {
   "cell_type": "code",
   "execution_count": null,
   "id": "0fe793f5",
   "metadata": {},
   "outputs": [],
   "source": [
    "# Return head of GeoDataFrame\n",
    "osogs_pop_est_lad_merged.head()"
   ]
  },
  {
   "cell_type": "markdown",
   "id": "9bf6264d",
   "metadata": {},
   "source": [
    "### OS GeoDataViz colour palettes\n",
    "\n",
    "The OS [GeoDataViz toolkik](https://github.com/OrdnanceSurvey/GeoDataViz-Toolkit/tree/master/Colours) provides qualitative, sequential, and diverging colour palettes to support GDV applications."
   ]
  },
  {
   "cell_type": "code",
   "execution_count": null,
   "id": "d342ed55",
   "metadata": {},
   "outputs": [],
   "source": [
    "# GDV colour palettes JSON file\n",
    "gdv = \"https://raw.githubusercontent.com/OrdnanceSurvey/GeoDataViz-Toolkit/master/Colours/GDV-colour-palettes.json\"\n",
    "\n",
    "# Make HTTP GET request, decode JSON, and access by JSON query\n",
    "gdv_seq = requests.get(gdv, verify=False).json()[\"sequential\"][\"m2\"]\n",
    "\n",
    "# Create Matplotlib colour map from GDV colours\n",
    "gdv_seq_cmap = ListedColormap(colors=gdv_seq[2:], name=\"gdv-seq-m2-cmap\")\n",
    "\n",
    "# Return colour map\n",
    "gdv_seq_cmap"
   ]
  },
  {
   "cell_type": "markdown",
   "id": "d450a0c8",
   "metadata": {},
   "source": [
    "### Classification schemes\n",
    "\n",
    "Demonstrate four [`mapclassify`](https://github.com/pysal/mapclassify) classification schemes."
   ]
  },
  {
   "cell_type": "code",
   "execution_count": null,
   "id": "e25e0937",
   "metadata": {},
   "outputs": [],
   "source": [
    "# mapclassify schemes\n",
    "schemes = [\"EqualInterval\", \"FisherJenks\", \"Quantiles\", \"StdMean\"]"
   ]
  },
  {
   "cell_type": "code",
   "execution_count": null,
   "id": "674b637e",
   "metadata": {},
   "outputs": [],
   "source": [
    "# Create figures and axes objects\n",
    "f, axs = plt.subplots(nrows=2, ncols=2, figsize=(12, 10))\n",
    "\n",
    "# Set title\n",
    "f.suptitle(\"Local Authority District Accessibilty to OS Open Greenspace\", fontsize=16)\n",
    "\n",
    "# Iterate over schemes and axes\n",
    "for scheme, ax in zip(schemes, axs.flatten()):\n",
    "    # Set title\n",
    "    ax.set_title(scheme)\n",
    "    # Turn axis off\n",
    "    ax.set_axis_off()\n",
    "\n",
    "    # Plot GeoDataFrame\n",
    "    osogs_pop_est_lad_merged.plot(\n",
    "        ax=ax,\n",
    "        column=\"area2population\",\n",
    "        cmap=gdv_seq_cmap,\n",
    "        legend=True,\n",
    "        legend_kwds={\"loc\": \"lower right\", \"fontsize\": \"x-small\"},\n",
    "        scheme=scheme,\n",
    "        k=5,\n",
    "    )"
   ]
  }
 ],
 "metadata": {
  "kernelspec": {
   "display_name": "training",
   "language": "python",
   "name": "training"
  },
  "language_info": {
   "codemirror_mode": {
    "name": "ipython",
    "version": 3
   },
   "file_extension": ".py",
   "mimetype": "text/x-python",
   "name": "python",
   "nbconvert_exporter": "python",
   "pygments_lexer": "ipython3",
   "version": "3.11.7"
  }
 },
 "nbformat": 4,
 "nbformat_minor": 5
}
