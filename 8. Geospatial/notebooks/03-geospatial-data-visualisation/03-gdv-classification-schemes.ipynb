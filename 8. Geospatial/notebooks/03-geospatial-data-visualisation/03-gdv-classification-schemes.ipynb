{
 "cells": [
  {
   "cell_type": "markdown",
   "id": "41f49168",
   "metadata": {},
   "source": [
    "# 03 GDV Classification Schemes\n",
    "---\n",
    "\n",
    "Choropleth map classifcation scheme examples."
   ]
  },
  {
   "cell_type": "code",
   "execution_count": null,
   "id": "4303479f",
   "metadata": {},
   "outputs": [],
   "source": [
    "import geopandas as gpd\n",
    "import mapclassify\n",
    "import matplotlib.pyplot as plt\n",
    "import seaborn as sns"
   ]
  },
  {
   "cell_type": "markdown",
   "id": "be31243c",
   "metadata": {},
   "source": [
    "###  Create GeoDataFrame from GeoPackage (GPKG)"
   ]
  },
  {
   "cell_type": "code",
   "execution_count": null,
   "id": "e75ab7ad",
   "metadata": {},
   "outputs": [],
   "source": [
    "# Create a GeoPandas GeoDataFrame from a GeoPackage (GPKG)\n",
    "osogs_pop_est_lad_merged = gpd.read_file(\n",
    "    filename=\"../../data/lad-os-open-greenspace-area-per-head.gpkg\"\n",
    ")"
   ]
  },
  {
   "cell_type": "code",
   "execution_count": null,
   "id": "c1dc9bf2",
   "metadata": {},
   "outputs": [],
   "source": [
    "# List GeoDataFrame columns\n",
    "osogs_pop_est_lad_merged.columns"
   ]
  },
  {
   "cell_type": "code",
   "execution_count": null,
   "id": "3c9a51e2",
   "metadata": {},
   "outputs": [],
   "source": [
    "# Return head of GeoDataFrame\n",
    "osogs_pop_est_lad_merged.head()"
   ]
  },
  {
   "cell_type": "markdown",
   "id": "e98d1ab3",
   "metadata": {},
   "source": [
    "### Data classification\n",
    "---\n",
    "\n",
    "Categorising data into groups for plotting can be seen as a classification problem. The method chosen should take into account the goal of the map (e.g. highlighting outliers vs depicting the overall distribution of values). To help decide on the breaks to use please see these helpful links [here](https://censusgis.wordpress.com/students/lesson-5-visualisation-cartographic-practice/), and [here](https://gisgeography.com/choropleth-maps-data-classification/).\n",
    "\n",
    "The [`mapclassify`](https://github.com/pysal/mapclassify) Python package can be used for choropleth map classification. mapclassify classification schemes can be used via the `scheme` key word argument in both a GeoDataFrame [`plot`](https://geopandas.org/en/stable/docs/reference/api/geopandas.GeoDataFrame.plot.html) or [`explore`](https://geopandas.org/en/stable/docs/reference/api/geopandas.GeoDataFrame.explore.html) call.  \n",
    "\n",
    "The content below looks at four commonly used classification schemes:\n",
    "\n",
    "* Equal Interval\n",
    "* Jenks (Natural Breaks)\n",
    "* Quantiles\n",
    "* Standard Deviation"
   ]
  },
  {
   "cell_type": "markdown",
   "id": "e3f632f2",
   "metadata": {},
   "source": [
    "### Equal Interval\n",
    "\n",
    "The boundaries between classes are at regular intervals. It is simple and easy to interpretate. However, it considers the extreme values of the distribution and, in some cases, this can result in one or more classes being sparse."
   ]
  },
  {
   "cell_type": "code",
   "execution_count": null,
   "id": "4ef87505",
   "metadata": {},
   "outputs": [],
   "source": [
    "# Equal Interval scheme\n",
    "ei5 = mapclassify.EqualInterval(osogs_pop_est_lad_merged[\"area2population\"], k=5)\n",
    "\n",
    "ei5"
   ]
  },
  {
   "cell_type": "markdown",
   "id": "4c9f690b",
   "metadata": {},
   "source": [
    "### Jenks Natural Breaks\n",
    "\n",
    "The classes are defined according to natural groupings of data values. It minimises differences between points within a class and maximises between class differences (clusters data into similar groups)."
   ]
  },
  {
   "cell_type": "code",
   "execution_count": null,
   "id": "906573d2",
   "metadata": {},
   "outputs": [],
   "source": [
    "# Fisher Jenks scheme\n",
    "fj5 = mapclassify.FisherJenks(osogs_pop_est_lad_merged[\"area2population\"], k=5)\n",
    "\n",
    "fj5"
   ]
  },
  {
   "cell_type": "markdown",
   "id": "43566f03",
   "metadata": {},
   "source": [
    "### Quantiles\n",
    "\n",
    "Splits the data into classes so there are the same number of data values in each class. Numeric size of each class is rigidly imposed and can lead to misleading interpretation. The placement of boundaries may assign almost identical attributes to adjacent classes, or features with quite widely different values in the same class."
   ]
  },
  {
   "cell_type": "code",
   "execution_count": null,
   "id": "be3d828c",
   "metadata": {},
   "outputs": [],
   "source": [
    "# Quantiles scheme\n",
    "q5 = mapclassify.Quantiles(osogs_pop_est_lad_merged[\"area2population\"], k=5)\n",
    "\n",
    "q5"
   ]
  },
  {
   "cell_type": "markdown",
   "id": "4ef71913",
   "metadata": {},
   "source": [
    "### Standard Deviation\n",
    "\n",
    "Shows the distance of the observation from the mean and then generates class breaks in standard deviation measures above and below it. Can be good for identifying outliers."
   ]
  },
  {
   "cell_type": "code",
   "execution_count": null,
   "id": "0151078e",
   "metadata": {},
   "outputs": [],
   "source": [
    "# Standard mean scheme\n",
    "msd = mapclassify.StdMean(osogs_pop_est_lad_merged[\"area2population\"])\n",
    "\n",
    "msd"
   ]
  },
  {
   "cell_type": "code",
   "execution_count": null,
   "id": "e33c4366",
   "metadata": {},
   "outputs": [],
   "source": [
    "# Create figure and axes objects\n",
    "f, axs = plt.subplots(nrows=2, ncols=2, figsize=(15, 10))\n",
    "\n",
    "# Set title\n",
    "f.suptitle(\"Classification Scheme Profiles\", fontsize=16, y=1.01)\n",
    "\n",
    "# Flatten axes object\n",
    "axs = axs.flatten()\n",
    "\n",
    "# Iterate over schemes\n",
    "for i, scheme in enumerate([ei5, fj5, q5, msd]):\n",
    "    # Plot Kernel Density Estimate (KDE) plot showing distribution of areas per head\n",
    "    sns.kdeplot(osogs_pop_est_lad_merged[\"area2population\"], ax=axs[i], fill=True)\n",
    "\n",
    "    # Add vertical lines at scheme class divisions\n",
    "    for cut in scheme.bins:\n",
    "        axs[i].axvline(cut, color=\"grey\", linewidth=0.75)\n",
    "\n",
    "    # Draw ticks along the x axes showing area per head observations\n",
    "    sns.rugplot(\n",
    "        osogs_pop_est_lad_merged[\"area2population\"], height=0.05, color=\"red\", ax=axs[i]\n",
    "    )\n",
    "\n",
    "    # Set title\n",
    "    axs[i].set_title(f\"{scheme.name}\")"
   ]
  }
 ],
 "metadata": {
  "kernelspec": {
   "display_name": "training",
   "language": "python",
   "name": "training"
  },
  "language_info": {
   "codemirror_mode": {
    "name": "ipython",
    "version": 3
   },
   "file_extension": ".py",
   "mimetype": "text/x-python",
   "name": "python",
   "nbconvert_exporter": "python",
   "pygments_lexer": "ipython3",
   "version": "3.11.7"
  }
 },
 "nbformat": 4,
 "nbformat_minor": 5
}
