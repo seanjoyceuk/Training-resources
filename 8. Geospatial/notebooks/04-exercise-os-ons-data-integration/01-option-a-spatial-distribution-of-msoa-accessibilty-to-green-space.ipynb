{
 "cells": [
  {
   "cell_type": "markdown",
   "id": "dcc2c294",
   "metadata": {},
   "source": [
    "# 01 Option A - Exercise\n",
    "---"
   ]
  },
  {
   "cell_type": "markdown",
   "id": "991bc870",
   "metadata": {},
   "source": [
    "# Visualising the Spatial Distribution of MSOA Accessibility to Green Space\n",
    "---\n",
    "\n",
    "Geospatial-statistical analysis of MSOA accessibility to publicly accessible green spaces in Greater London."
   ]
  },
  {
   "cell_type": "markdown",
   "id": "97b6c28a",
   "metadata": {},
   "source": [
    "### National Statistics Postcode Lookup\n",
    "\n",
    "* The [National Statistics Postcode Lookup (NSPL)](https://www.ons.gov.uk/methodology/geography/geographicalproducts/postcodeproducts) can be used to allocate your source statistics at postcode-level to a wide range of higher UK statistical and administrative geographies.\n",
    "* The NSPL does this by allocating UK postcodes to Output Areas (OA). These OAs are then referenced to a wide range of higher statistical geographies (for example, local authority districts (LADs)) by a best-fit methodology that uses Census population data.\n",
    "* The postcode centroid point geomety provides the 1-metre grid reference location (x, y) of the mean address in the postcode snapped to the nearest property.\n",
    "* We'll use the NSPL for postcode centroid point geometries and for the references to Middle Layer Super Output Area (MSOA) and Regions."
   ]
  },
  {
   "cell_type": "markdown",
   "id": "17407ff6",
   "metadata": {},
   "source": [
    "### OS Open Greenspace\n",
    "\n",
    "The OS OpenData product [OS Open Greenspace](https://www.ordnancesurvey.co.uk/business-government/products/open-map-greenspace) depicts the location and extent of spaces such as parks and sports facilities that are likely to be accessible to the public. Where appropriate, it also includes Access Points to show how people get into these sites. Its primary purpose is to enable members of the public to find and access greenspaces near them for exercise and recreation.\n",
    "\n",
    "<img width=\"500\"\n",
    "     src=\"https://beta.ordnancesurvey.co.uk/img-assets/products/greenspace-open-london.x5201e7a5.jpg?w=1242&h=828&crop=828%2C828%2C207%2C0&f=webp?q=100&crop=2270,1422,0,0&w=1000\"\n",
    "     alt=\"OS Open Greenspace London\"\n",
    "     align=\"centre\" />"
   ]
  },
  {
   "cell_type": "markdown",
   "id": "4a35b88d",
   "metadata": {},
   "source": [
    "### Middle Layer Super Output Areas\n",
    "\n",
    "* [Middle Layer Super Output Areas (MSOAs)](https://geoportal.statistics.gov.uk/datasets/middle-layer-super-output-areas-december-2011-boundaries-generalised-clipped-bgc-ew-v3/explore) are an ONS census geography product comprised of nested OAs and LSOAs and providing a geographical unit for census data releases.\n",
    "* The postcodes in the NSPL are allocated to OAs by plotting each postcode's centroid directly into the OA boundaries. The postcodes are then allocated to the higher geographies that the postcode’s OA falls in by plotting the OA’s population weighted centroid into the digital boundary of the higher geography. A population weighted centroid is a grid reference that in a single summary point reflects the spatial distribution of the 2011 Census population in the OA. "
   ]
  },
  {
   "cell_type": "markdown",
   "id": "f88e8d38",
   "metadata": {},
   "source": [
    "---"
   ]
  },
  {
   "cell_type": "markdown",
   "id": "ddc9b0cc",
   "metadata": {},
   "source": [
    "### NSPL\n",
    "\n",
    "1. Read the NSPL CSV data into a Pandas DataFrame.\n",
    "2. Return the head of the DataFrame.\n",
    "3. List all columns of the DataFrame.\n",
    "4. Count the rows.\n",
    "5. Subset the DataFrame only keeping live postcodes `(doterm IS NULL)` referencing the Greater London region `(rgn equal to E12000007)`.\n",
    "6. Rename the following columns: `oseast1m` to `x`, `osnrth1m` to `y`, `msoa21` to `msoa21cd` and `rgn` to `rgn20cd`.\n",
    "7. Count the rows in the subset.\n",
    "8. Construct a GeoPandas GeoDataFrame from the Pandas DataFrame with the geometry column representing a point type constructed from the postcode centroid x and y coordinates.\n",
    "9. Assign the GeoDataFrame CRS to `British National Grid (EPSG:27700)`.\n",
    "10. Return the GeoDataFrame CRS assignment.\n",
    "11. Count rows by geometry type.\n",
    "12. Check for NULL postcode geometries.\n",
    "10. Create a static plot of the subset GeoDataFrame. Use a qualitative colour hex value from the GDV toolkit and reduce the marker size and marker transparency to create a dot-denisty map."
   ]
  },
  {
   "cell_type": "code",
   "execution_count": null,
   "id": "003fa0bb",
   "metadata": {},
   "outputs": [],
   "source": [
    "# Read the NSPL CSV data into a Pandas DataFrame\n",
    "\n",
    "\n",
    "# Return the head of the DataFrame"
   ]
  },
  {
   "cell_type": "code",
   "execution_count": null,
   "id": "07c3d075",
   "metadata": {},
   "outputs": [],
   "source": [
    "# List all columns of the DataFrame"
   ]
  },
  {
   "cell_type": "code",
   "execution_count": null,
   "id": "5588225e",
   "metadata": {},
   "outputs": [],
   "source": [
    "# Count the rows"
   ]
  },
  {
   "cell_type": "code",
   "execution_count": null,
   "id": "c3a45065",
   "metadata": {},
   "outputs": [],
   "source": [
    "# Subset the DataFrame only keeping live postcodes referencing the Greater London region\n",
    "# Live postcodes have a NULL termination date in the 'doterm' column\n",
    "# Region GSS code equal to 'E12000007'"
   ]
  },
  {
   "cell_type": "code",
   "execution_count": null,
   "id": "0c1f598d",
   "metadata": {},
   "outputs": [],
   "source": [
    "# Rename columns"
   ]
  },
  {
   "cell_type": "code",
   "execution_count": null,
   "id": "23ecd844",
   "metadata": {},
   "outputs": [],
   "source": [
    "# Count the rows in the subset"
   ]
  },
  {
   "cell_type": "code",
   "execution_count": null,
   "id": "b5fee5b4",
   "metadata": {},
   "outputs": [],
   "source": [
    "# Construct a GeoPandas GeoDataFrame from the Pandas DataFrame with the geometry column representing a point type constructed from the postcode centroid x and y coordinates\n",
    "\n",
    "# Assign British National Grid CRS\n",
    "# Unlike a GPKG there is no embedded CRS metadata in a CSV source"
   ]
  },
  {
   "cell_type": "code",
   "execution_count": null,
   "id": "7b747f45",
   "metadata": {},
   "outputs": [],
   "source": [
    "# Return the GeoDataFrame CRS assignment"
   ]
  },
  {
   "cell_type": "code",
   "execution_count": null,
   "id": "cdd28192",
   "metadata": {},
   "outputs": [],
   "source": [
    "# Count rows by geometry type"
   ]
  },
  {
   "cell_type": "code",
   "execution_count": null,
   "id": "867ac68c",
   "metadata": {},
   "outputs": [],
   "source": [
    "# Check geometry validity"
   ]
  },
  {
   "cell_type": "code",
   "execution_count": null,
   "id": "fc2c8a42",
   "metadata": {},
   "outputs": [],
   "source": [
    "# Create a static plot of the subset GeoDataFrame\n",
    "# Build on GDV best practice\n",
    "\n",
    "# Turn axis off"
   ]
  },
  {
   "cell_type": "markdown",
   "id": "0556e0e1",
   "metadata": {},
   "source": [
    "### OS Open Greenspace\n",
    "\n",
    "1. Read the `greenspace_site` layer from the GPKG dataset into a GeoPandas DataFrame.\n",
    "2. Subset columns (keeping only `id`, `function` and `geometry`) and filter for green space function `Public Park Or Garden` or `Playing Field`.\n",
    "3. Return the head of the GeoDataFrame.\n",
    "4. Count the rows.\n",
    "5. Count rows by geometry type.\n",
    "6. Check geometry validity.\n",
    "7. Create a static plot of the centroid of each MultiPolygon geometry. Use a qualitative colour hex value from the GDV toolkit."
   ]
  },
  {
   "cell_type": "code",
   "execution_count": null,
   "id": "c5ec2c77",
   "metadata": {},
   "outputs": [],
   "source": [
    "# Download the OS Open Greenspace OpenData product using:\n",
    "# 'OpenGreenspace' product id\n",
    "# 'opgrsp_gpkg_gb.zip' filename"
   ]
  },
  {
   "cell_type": "code",
   "execution_count": null,
   "id": "c97fb988",
   "metadata": {},
   "outputs": [],
   "source": [
    "# Read the GreenspaceSite layer from the GPKG dataset into a GeoPandas DataFrame directly from the zip\n",
    "# Specify GPKG feature table / layer\n",
    "\n",
    "# Subset columns and filter for green space function 'Public Park Or Garden' or 'Playing Field'\n",
    "\n",
    "\n",
    "# Return the head of the GeoDataFrame"
   ]
  },
  {
   "cell_type": "code",
   "execution_count": null,
   "id": "3120b8aa",
   "metadata": {},
   "outputs": [],
   "source": [
    "# Count the rows"
   ]
  },
  {
   "cell_type": "code",
   "execution_count": null,
   "id": "c2972291",
   "metadata": {},
   "outputs": [],
   "source": [
    "# Count rows by geometry type"
   ]
  },
  {
   "cell_type": "code",
   "execution_count": null,
   "id": "ed5210dd",
   "metadata": {},
   "outputs": [],
   "source": [
    "# Check geometry validity"
   ]
  },
  {
   "cell_type": "code",
   "execution_count": null,
   "id": "360b4906",
   "metadata": {},
   "outputs": [],
   "source": [
    "# Create a static plot of the centroid of each MultiPolygon geometry\n",
    "# Follow GDV best practice\n",
    "\n",
    "# Turn axis off"
   ]
  },
  {
   "cell_type": "markdown",
   "id": "9b91c1bc",
   "metadata": {},
   "source": [
    "### Spatially join the NSPL and OS Open Greenspace\n",
    "\n",
    "1. Spatially join the rows within the nspl_gdf and the osogs GeoDataFrames where pairs of geometries are within 1000m.\n",
    "    * Use the GeoPandas function ['sjoin_nearest'](https://geopandas.org/docs/reference/api/geopandas.GeoDataFrame.sjoin_nearest.html) to perform the spatial join.\n",
    "    * Use a maximum join distance of 1000m.\n",
    "    * Create a column called 'distance' which shows the distance between the pairs of geometries.\n",
    "    * Ensure that every postcode in the nspl GeoDataFrame is retained within the join.\n",
    "2. Return the head of the GeoDataframe.\n",
    "3. Count the rows.\n",
    "4. Count the number of unique postcodes - what can you gleen by comparing against the total row count?\n",
    "5. Check that the number of unique postcodes is equal to the number of postcodes in Greater London in the subset of the NSPL.\n",
    "6. Calculate the minimum distance to a green space per postcode. Do this by grouping by the pcds and msoa21cd columns and evaluating the minimum distance.\n",
    "7. Return the head of the DataFrame.\n",
    "8. Calculate the mean distance to a green space per MSOA. Do this by grouping by the msoa21cd column of the minimum distance per postcode DataFrame in #6 above and evaluating the mean distance.\n",
    "9. Return head of DataFrame.\n",
    "10. Return DataFrame descriptive statistics.\n",
    "11. Plot a MSOA-distance histogram.\n",
    "12. Populate a new 'rank' column binning each MSOA into one of seven classes ordering by the mean distance.\n",
    "13. Return head of DataFrame.\n",
    "14. Count the rows.\n",
    "15. Check that the number of MSOAs is equal to the number of unique MSOAs in Greater London in the subset of the NSPL."
   ]
  },
  {
   "cell_type": "code",
   "execution_count": null,
   "id": "1a015a66",
   "metadata": {},
   "outputs": [],
   "source": [
    "# Spatially join the rows within the nspl_gdf and the osogs GeoDataFrames where pairs of geometries are within 1000m\n",
    "\n",
    "\n",
    "# Return the head of the GeoDataframe"
   ]
  },
  {
   "cell_type": "code",
   "execution_count": null,
   "id": "c5874105",
   "metadata": {},
   "outputs": [],
   "source": [
    "# Count the rows"
   ]
  },
  {
   "cell_type": "code",
   "execution_count": null,
   "id": "b44ac63b",
   "metadata": {},
   "outputs": [],
   "source": [
    "# Count the number of unique postcodes"
   ]
  },
  {
   "cell_type": "code",
   "execution_count": null,
   "id": "cf659419",
   "metadata": {},
   "outputs": [],
   "source": [
    "# Check that the number of unique postcodes is equal to the number of postcodes in Greater London in the subset of the NSPL"
   ]
  },
  {
   "cell_type": "code",
   "execution_count": null,
   "id": "d84f7d11",
   "metadata": {},
   "outputs": [],
   "source": [
    "# Calculate the minimum distance to a green space per postcode\n",
    "# Do this by grouping by the pcds and msoa21cd columns and evaluating the minimum distance\n",
    "\n",
    "\n",
    "# Return the head of DataFrame"
   ]
  },
  {
   "cell_type": "code",
   "execution_count": null,
   "id": "28c7b63d",
   "metadata": {},
   "outputs": [],
   "source": [
    "# Calculate the mean distance to a green space per MSOA\n",
    "# Do this by grouping by the msoa21cd column of the distance_gdf DataFrame and evaluating the mean distance\n",
    "\n",
    "\n",
    "# Return the head of DataFrame"
   ]
  },
  {
   "cell_type": "code",
   "execution_count": null,
   "id": "fd3bbaf6",
   "metadata": {},
   "outputs": [],
   "source": [
    "# Return DataFrame descriptive statistics"
   ]
  },
  {
   "cell_type": "code",
   "execution_count": null,
   "id": "6292003f",
   "metadata": {},
   "outputs": [],
   "source": [
    "# Create figure and axes objects\n",
    "\n",
    "# Set x label\n",
    "\n",
    "# Set y label\n",
    "\n",
    "# Set title\n",
    "\n",
    "# Plot a MSOA-mean distance histogram"
   ]
  },
  {
   "cell_type": "code",
   "execution_count": null,
   "id": "420a674a",
   "metadata": {},
   "outputs": [],
   "source": [
    "# Populate a new 'rank' column binning each MSOA into one of seven classes ordering by the mean distance\n",
    "# Specify rank labels 1-7 equal to number of colour values in GDV sequential palette\n",
    "\n",
    "# Populate rank column\n",
    "\n",
    "\n",
    "# Return head of DataFrame"
   ]
  },
  {
   "cell_type": "code",
   "execution_count": null,
   "id": "c8fb40a4",
   "metadata": {},
   "outputs": [],
   "source": [
    "# Count the rows"
   ]
  },
  {
   "cell_type": "code",
   "execution_count": null,
   "id": "d6f91f62",
   "metadata": {},
   "outputs": [],
   "source": [
    "# Check that the number of MSOAs is equal to the number of unique MSOAs in Greater London in the subset of the NSPL"
   ]
  },
  {
   "cell_type": "markdown",
   "id": "172ac1e4",
   "metadata": {},
   "source": [
    "### MSOA Boundaries\n",
    "\n",
    "1. Read the MSOA GeoPackage (GPKG) dataset into a GeoPandas DataFrame.\n",
    "2. Return the head of the GeoDataFrame.\n",
    "3. Count the rows.\n",
    "4. Subset the columns keeping only `MSOA21` and `geometry`.\n",
    "5. Rename the `MSOA21` column to `msoa21cd`.\n",
    "6. Count rows by geometry type.\n",
    "7. Check geometry validity.\n",
    "8. Inner join (by attribute) the rows within the lsoa GeoDataFrame and the lsoa_mean DataFrame on the `msoa21cd` column.\n",
    "9. Return the head of the GeoDataFrame\n",
    "10. Count the rows."
   ]
  },
  {
   "cell_type": "code",
   "execution_count": null,
   "id": "0b8892fa",
   "metadata": {},
   "outputs": [],
   "source": [
    "# Read the MSOA GPKG data into a GeoPandas GeoDataFrame\n",
    "\n",
    "\n",
    "# Return the head of GeoDataFrame"
   ]
  },
  {
   "cell_type": "code",
   "execution_count": null,
   "id": "fc27f40c",
   "metadata": {},
   "outputs": [],
   "source": [
    "# Count the rows"
   ]
  },
  {
   "cell_type": "code",
   "execution_count": null,
   "id": "5dd552c8",
   "metadata": {},
   "outputs": [],
   "source": [
    "# Subset columns"
   ]
  },
  {
   "cell_type": "code",
   "execution_count": null,
   "id": "55556c38",
   "metadata": {},
   "outputs": [],
   "source": [
    "# Rename columns"
   ]
  },
  {
   "cell_type": "code",
   "execution_count": null,
   "id": "7fd1e5be",
   "metadata": {},
   "outputs": [],
   "source": [
    "# Count rows by geometry type"
   ]
  },
  {
   "cell_type": "code",
   "execution_count": null,
   "id": "933d532a",
   "metadata": {},
   "outputs": [],
   "source": [
    "# Check geometry validity"
   ]
  },
  {
   "cell_type": "code",
   "execution_count": null,
   "id": "cdf6c0b7",
   "metadata": {},
   "outputs": [],
   "source": [
    "# Inner join (by attribute) the rows within the lsoa GeoDataFrame and the lsoa_mean DataFrame on the `msoa21cd` column\n",
    "# GeoDataFrame required to be in the 'left' argument to preserve a GeoDataFrame output\n",
    "\n",
    "\n",
    "# Return the head of GeoDataFrame"
   ]
  },
  {
   "cell_type": "code",
   "execution_count": null,
   "id": "df880ad8",
   "metadata": {},
   "outputs": [],
   "source": [
    "# Count the rows"
   ]
  },
  {
   "cell_type": "markdown",
   "id": "f76c040a",
   "metadata": {},
   "source": [
    "### OS GeoDataViz Sequential Palette\n",
    "\n",
    "1. Download and decode the JSON representation of the OS [GDV colour palettes](https://raw.githubusercontent.com/OrdnanceSurvey/GeoDataViz-Toolkit/master/Colours/GDV-colour-palettes-v0.7.json) via a Requests HTTP GET request.\n",
    "2. Access the `m2` colour palette within the `sequential` palette group.\n",
    "3. Create a Matplotlib [ListedColormap](https://matplotlib.org/stable/api/_as_gen/matplotlib.colors.ListedColormap.html) colour map from the m2 palette.\n",
    "4. Return the colour map."
   ]
  },
  {
   "cell_type": "code",
   "execution_count": null,
   "id": "62d65d4d",
   "metadata": {},
   "outputs": [],
   "source": [
    "# Download and decode the JSON representation of the OS GDV colour palettes via a Requests HTTP GET request\n",
    "\n",
    "# SSL certificate verification 'turned off'\n",
    "\n",
    "\n",
    "# Access the 'm2' colour palette within the 'sequential' palette group\n",
    "# ['#FCE1A4', '#FABF7B', '#F08F6E', '#E05C5C', '#D12959', '#AB1866', '#6E005F']\n",
    "\n",
    "\n",
    "# Create a Matplotlib ListedColormap colour map from the m2 palette\n",
    "\n",
    "\n",
    "# Return the colour maps"
   ]
  },
  {
   "cell_type": "markdown",
   "id": "5243da7a",
   "metadata": {},
   "source": [
    "### Static Map\n",
    "\n",
    "1. Create a GeoPandas static plot overlaying the centroids of the `osogs` GeoDataFrame, within the Greater London bounding box only, ontop of a choropleth map showing MSOA mean distance to green space, from the `msoa_mean_gdf` GeoDataFrame. The map should be styled using GDV best practice and the mean distance coloured using the `m2` GDV colour map against the `rank` bin column. "
   ]
  },
  {
   "cell_type": "code",
   "execution_count": null,
   "id": "a785367e",
   "metadata": {},
   "outputs": [],
   "source": [
    "# Create Matplotlib figure and axes to use for the plot\n",
    "\n",
    "\n",
    "# Plot the msoa_mean_gdf GeoDataFrame\n",
    "\n",
    "# Clip the osogs GeoDataFrame to the bounding box of Greater London\n",
    "\n",
    "\n",
    "# Plot the centroid each geometry in the osogs GeoDataFrame\n",
    "# Apply GDV best practice\n",
    "\n",
    "\n",
    "# Turn axis off"
   ]
  },
  {
   "cell_type": "markdown",
   "id": "c1aa5c80",
   "metadata": {},
   "source": [
    "### Interactive Map\n",
    "\n",
    "1. Create a GeoPandas and leaflet/folium interactive choropleth map showing MSOA mean distance to green space, from the `msoa_mean_gdf` GeoDataFrame. The map should be styled using GDV best practice and the mean distance coloured using the `m2` GDV colour map against the `rank` bin column. The folium map should use a map instance with an OS Maps API Light Style 3857 base map."
   ]
  },
  {
   "cell_type": "code",
   "execution_count": null,
   "id": "ac822c29",
   "metadata": {},
   "outputs": [],
   "source": [
    "# Provide OS Maps API layer name\n",
    "\n",
    "# Insert OS Data Hub project API key\n",
    "\n",
    "# OS Data Hub base path - https://api.os.uk\n",
    "# OS Maps API ZXY end point path - /maps/raster/v1/zxy/"
   ]
  },
  {
   "cell_type": "code",
   "execution_count": null,
   "id": "aae6dccf",
   "metadata": {},
   "outputs": [],
   "source": [
    "# Return centroid of MSOA Greater London Authority BBOX in WGS-84"
   ]
  },
  {
   "cell_type": "code",
   "execution_count": null,
   "id": "72fb134b",
   "metadata": {},
   "outputs": [],
   "source": [
    "# Create Folium map with OS Maps API base map"
   ]
  },
  {
   "cell_type": "code",
   "execution_count": null,
   "id": "0238e6ee",
   "metadata": {},
   "outputs": [],
   "source": [
    "# Create an interactive leaflet map based on the 'msoa_mean_gdf' GeoDataFrame\n",
    "# Apply GDV best practice\n",
    "# Qualitative styling based on 'rank' column values\n",
    "# folium Map created above\n",
    "# Use GDV 'm2' colour map\n",
    "# Edit stroke styling"
   ]
  },
  {
   "cell_type": "markdown",
   "id": "e05dbefc",
   "metadata": {},
   "source": [
    "---"
   ]
  },
  {
   "cell_type": "markdown",
   "id": "357839de",
   "metadata": {},
   "source": [
    "### Extension: Quantifying accessibilty via a different metric\n",
    "\n",
    "Finding the distance to each postcode's nearest greenspace isn't the only way to quantify accessibility to green space.  Considering that the area (utlity) of a green space site may be an important factor in conjunction with distance, one alterative could be to measure the total area of green space within a certain distance of each postcode.\n",
    "\n",
    "1. Create a new GeoDataFrame by buffering the NSPL postcode POINT geometries in the `nspl_gdf` GeoDataFrame by a threshold distance.\n",
    "2. Add a new column to the GeoDataFrame representing the area of the new POLYGON geometry for each postcode.\n",
    "3. Return the head of the GeoDataFrame."
   ]
  },
  {
   "cell_type": "code",
   "execution_count": null,
   "id": "4ca4946f",
   "metadata": {},
   "outputs": [],
   "source": [
    "# Distance (buffer) threshold in metres\n",
    "\n",
    "# Copy the NSPL GeoDataFrame\n",
    "\n",
    "# Buffer the postcode POINT geometries by the threshold distance\n",
    "# This transforms the geometry type from POINT -> POLYGON\n",
    "\n",
    "\n",
    "# Add a new column representing the area of the new POLYGON geometry for each postcode\n",
    "\n",
    "\n",
    "# Return the head of the GeoDataFrame"
   ]
  },
  {
   "cell_type": "markdown",
   "id": "265e4cde",
   "metadata": {},
   "source": [
    "4. Create a new GeoDataFrame by evaluating the intersection (shared geometry) between the buffered postcode POLYGON geometries and the OS Open GreenSpace data in the `osogs` GeoDataFrame.\n",
    "5. Dissolve (spatially union) the intersection geometries by postcode.\n",
    "6. Add a new column to the GeoDataFrame representing the area of the intersection geometry by postcode.\n",
    "7. Add a new column to the GeoDataFrame representing a normalised area metric - divide the intersection geometry area by the area of the buffered postcode geometry.\n",
    "8. Return the head of the GeoDataFrame."
   ]
  },
  {
   "cell_type": "code",
   "execution_count": null,
   "id": "c0470d1e",
   "metadata": {},
   "outputs": [],
   "source": [
    "# Levergage GeoPandas overlay to evaluate the intersection (shared geometry) between the buffered postcode\n",
    "# POLYGON geometries and the OS Open GreenSpace data in the `osogs` GeoDataFrame\n",
    "\n",
    "\n",
    "# Dissolve (spatially union) the intersection geometries by postcode.\n",
    "\n",
    "\n",
    "# Add a new column to the GeoDataFrame representing the area of the intersection geometry by postcode\n",
    "\n",
    "\n",
    "# Add a new column to the GeoDataFrame representing a normalised area metric -\n",
    "# divide the intersection geometry area by the area of the buffered postcode geometry\n",
    "\n",
    "\n",
    "# Return the head of the GeoDataFrame"
   ]
  },
  {
   "cell_type": "markdown",
   "id": "87ad7ffd",
   "metadata": {},
   "source": [
    "9. A subset of postcodes will not be represented in the data because the buffered POLYGON geometry does not intersect any of the OS Open GreenSpace feature geometries. Add the missing subset of postcodes to the data setting the normalised area metric to a value of 0.\n",
    "10. Return the head of the GeoDataFrame."
   ]
  },
  {
   "cell_type": "code",
   "execution_count": null,
   "id": "c831250f",
   "metadata": {},
   "outputs": [],
   "source": [
    "# Add the missing subset of postcodes to the data setting the normalised area metric to a value of 0\n",
    "\n",
    "\n",
    "# Return the head of the GeoDataFrame"
   ]
  },
  {
   "cell_type": "markdown",
   "id": "12cb4b31",
   "metadata": {},
   "source": [
    "11. Test whether the number of rows in the NSPL and postcode normalised area datasets are equal."
   ]
  },
  {
   "cell_type": "code",
   "execution_count": null,
   "id": "6c397949",
   "metadata": {},
   "outputs": [],
   "source": [
    "# Test whether the number of rows in the NSPL and postcode normalised area datasets are equal"
   ]
  },
  {
   "cell_type": "markdown",
   "id": "614db494",
   "metadata": {},
   "source": [
    "12. Plot a histogram of the distribution of postcode normalised area values."
   ]
  },
  {
   "cell_type": "code",
   "execution_count": null,
   "id": "a59a3221",
   "metadata": {},
   "outputs": [],
   "source": [
    "# Plot a histogram of the distribution of postcode normalised area values\n",
    "# The normalised area metric is very biased towards small values\n",
    "# Right-skewed (long right tail)"
   ]
  },
  {
   "cell_type": "markdown",
   "id": "edc60f63",
   "metadata": {},
   "source": [
    "13. Summarise the postcode normalised area at MSOA-level by calculating the mean area by MSOA."
   ]
  },
  {
   "cell_type": "code",
   "execution_count": null,
   "id": "2661f522",
   "metadata": {},
   "outputs": [],
   "source": [
    "# Summarise the postcode normalised area at MSOA-level by calculating the mean area by MSOA\n",
    "# Group by msoa21cd key"
   ]
  },
  {
   "cell_type": "markdown",
   "id": "20f39d33",
   "metadata": {},
   "source": [
    "14. Create a static GeoDataFrame plot representing the spatial distribution in MSOA mean postcode normalised area. Bin the data into seven equal bins and style the classes using a sequential OS GDV colour palette. Overlay the source OS Open GreenSpace MULTIPOLYGON feature data ontop of the thematic map."
   ]
  },
  {
   "cell_type": "code",
   "execution_count": null,
   "id": "3f310b33",
   "metadata": {},
   "outputs": [],
   "source": [
    "# Create Matplotlib figure and axes\n",
    "\n",
    "\n",
    "# Plot the msoa_mean_gdf GeoDataFrame\n",
    "\n",
    "# Clip the osogs GeoDataFrame to the bounding box of Greater London\n",
    "\n",
    "\n",
    "# Since this metric accounts for greenspace area (not just location), we might want to also plot the full MULTIPOLYGON extent\n",
    "# of greenspaces\n",
    "\n",
    "# Turn axis off"
   ]
  }
 ],
 "metadata": {
  "kernelspec": {
   "display_name": "training",
   "language": "python",
   "name": "training"
  },
  "language_info": {
   "codemirror_mode": {
    "name": "ipython",
    "version": 3
   },
   "file_extension": ".py",
   "mimetype": "text/x-python",
   "name": "python",
   "nbconvert_exporter": "python",
   "pygments_lexer": "ipython3",
   "version": "3.11.7"
  }
 },
 "nbformat": 4,
 "nbformat_minor": 5
}
