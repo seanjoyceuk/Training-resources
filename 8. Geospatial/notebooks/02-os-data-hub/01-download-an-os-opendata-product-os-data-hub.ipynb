{
 "cells": [
  {
   "cell_type": "markdown",
   "id": "15682f82",
   "metadata": {},
   "source": [
    "# 01 Download An OS OpenData Product\n",
    "---\n",
    "\n",
    "Using the [`osdatahub`](https://github.com/OrdnanceSurvey/osdatahub) Python package to programtically download an OS OpenData product."
   ]
  },
  {
   "cell_type": "markdown",
   "id": "1e9b1f06",
   "metadata": {},
   "source": [
    "### OS Data Hub\n",
    "---\n",
    "\n",
    "The OS Data Hub is the new data portal to access Ordnance Survey (OS) data. Data can be downloaded through a user interace or programatically via a series of APIs enabling direct integration with software applications.\n",
    "\n",
    "The OS Data Hub [Public Sector Plan](https://www.ordnancesurvey.co.uk/business-government/public-sector-geospatial-agreement/data-hub-for-public-sector) provides [PSGA members](https://www.ordnancesurvey.co.uk/business-government/sectors/public-sector) with unlimited access to OS OpenData and OS Premium data available under the PSGA via API or download."
   ]
  },
  {
   "cell_type": "markdown",
   "id": "7614c833",
   "metadata": {},
   "source": [
    "### OS Downloads API\n",
    "---\n",
    "\n",
    "The [OS Downloads API](https://osdatahub.os.uk/docs/downloads/overview) is an service that lets you automate the discovery and download of OS OpenData and Premium data products.\n",
    "\n",
    "Use of the OS Downloads API for OpenData downloads does not require an API key or an OS Data Hub account."
   ]
  },
  {
   "cell_type": "markdown",
   "id": "85871654",
   "metadata": {},
   "source": [
    "### osdatahub\n",
    "---\n",
    "\n",
    "The [osdatahub](https://github.com/OrdnanceSurvey/osdatahub) is a Python package from OS that makes it easier to interact with OS data via the OS Data Hub APIs."
   ]
  },
  {
   "cell_type": "markdown",
   "id": "72874db2",
   "metadata": {},
   "source": [
    "### OS Open Greenspace\n",
    "---\n",
    "\n",
    "The OS OpenData product [OS Open Greenspace](https://www.ordnancesurvey.co.uk/business-government/products/open-map-greenspace) depicts the location and extent of spaces such as parks and sports facilities that are likely to be accessible to the public. Where appropriate, it also includes Access Points to show how people get into these sites. Its primary purpose is to enable members of the public to find and access greenspaces near them for exercise and recreation.\n",
    "\n",
    "<img width=\"500\"\n",
    "     src=\"https://beta.ordnancesurvey.co.uk/img-assets/products/greenspace-open-london.x5201e7a5.jpg?w=1242&h=828&crop=828%2C828%2C207%2C0&f=webp?q=100&crop=2270,1422,0,0&w=1000\"\n",
    "     alt=\"OS Open Greenspace London\"\n",
    "     align=\"centre\" />"
   ]
  },
  {
   "cell_type": "code",
   "execution_count": null,
   "id": "ecfb75b9",
   "metadata": {},
   "outputs": [],
   "source": [
    "%pip install osdatahub"
   ]
  },
  {
   "cell_type": "code",
   "execution_count": null,
   "id": "7db060d0",
   "metadata": {},
   "outputs": [],
   "source": [
    "import pandas as pd\n",
    "from osdatahub import OpenDataDownload"
   ]
  },
  {
   "cell_type": "code",
   "execution_count": null,
   "id": "b6a29e92",
   "metadata": {},
   "outputs": [],
   "source": [
    "# Create a Pandas DataFrame from a list of all available OS OpenData products\n",
    "df = pd.DataFrame(OpenDataDownload.all_products())\n",
    "\n",
    "# Return DataFrame\n",
    "df"
   ]
  },
  {
   "cell_type": "code",
   "execution_count": null,
   "id": "d5b8b01f",
   "metadata": {},
   "outputs": [],
   "source": [
    "# Specify an OS OpenData product by 'id'\n",
    "product = \"OpenGreenspace\"\n",
    "\n",
    "# Create a Pandas DataFrame from the list download options for a given product\n",
    "osogs = pd.DataFrame(OpenDataDownload(product).product_list())\n",
    "\n",
    "# Return DataFrame\n",
    "osogs"
   ]
  },
  {
   "cell_type": "code",
   "execution_count": null,
   "id": "413f4030",
   "metadata": {},
   "outputs": [],
   "source": [
    "# Subset DataFrame rows based upon target data format and geographical supply\n",
    "osogs_filtered = osogs.loc[(osogs[\"area\"] == \"GB\") & (osogs[\"format\"] == \"GeoPackage\")]\n",
    "\n",
    "# Return DataFrame\n",
    "osogs_filtered"
   ]
  },
  {
   "cell_type": "markdown",
   "id": "8586e969",
   "metadata": {},
   "source": [
    "### Download OS OpenData product\n",
    "\n",
    "* product (str): A valid OS Open Data product name as supported by the OS Downloads API.\n",
    "* output_dir (str): Directory path where the OS Open Data product will be downloaded to.\n",
    "* file_name (str): A valid filename for an an OS Open Data product as supported by the OS Downloads API."
   ]
  },
  {
   "cell_type": "code",
   "execution_count": null,
   "id": "520104e2",
   "metadata": {},
   "outputs": [],
   "source": [
    "# Access value from DataFrame\n",
    "file = osogs_filtered[\"fileName\"].values[0]\n",
    "\n",
    "file"
   ]
  },
  {
   "cell_type": "code",
   "execution_count": null,
   "id": "a6ee9986",
   "metadata": {},
   "outputs": [],
   "source": [
    "# Download target OS OpenData product\n",
    "OpenDataDownload(product).download(\n",
    "    output_dir=\"../../data/ordnance-survey/tmp\",\n",
    "    file_name=file,\n",
    "    file_format=\"GeoPackage\",\n",
    ")"
   ]
  }
 ],
 "metadata": {
  "kernelspec": {
   "display_name": "training",
   "language": "python",
   "name": "training"
  },
  "language_info": {
   "codemirror_mode": {
    "name": "ipython",
    "version": 3
   },
   "file_extension": ".py",
   "mimetype": "text/x-python",
   "name": "python",
   "nbconvert_exporter": "python",
   "pygments_lexer": "ipython3",
   "version": "3.11.7"
  }
 },
 "nbformat": 4,
 "nbformat_minor": 5
}
