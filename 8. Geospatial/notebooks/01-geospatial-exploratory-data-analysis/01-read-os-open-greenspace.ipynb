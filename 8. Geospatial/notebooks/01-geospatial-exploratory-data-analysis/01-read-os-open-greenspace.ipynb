{
 "cells": [
  {
   "cell_type": "markdown",
   "id": "e3434779",
   "metadata": {},
   "source": [
    "\n",
    "# 01 Read OS Open Greenspace\n",
    "---\n",
    "\n",
    "A general purpose approach to exploratory data analysis given a new geospatial dataset."
   ]
  },
  {
   "cell_type": "markdown",
   "id": "3109ddec",
   "metadata": {},
   "source": [
    "### GeoPackage\n",
    "---\n",
    "\n",
    "The [GeoPackage](https://www.geopackage.org/) (GPKG) is an open geospatial data format enabling the storage of geospatial data within a [SQLite database](https://www.sqlite.org/index.html). The SQLite database povides a lightweight and portal database storage solution. Each dataset is stored as a feature table within the database and can be queried directly using SQL or via spatial applications including the Python geospatial vector package [GeoPandas](https://geopandas.org/index.html). "
   ]
  },
  {
   "cell_type": "markdown",
   "id": "59fccebd",
   "metadata": {},
   "source": [
    "### GeoPandas\n",
    "---\n",
    "\n",
    "[GeoPandas](https://geopandas.org/index.html) extends the datatypes used by [pandas](https://pandas.pydata.org/) to allow spatial operations on geometric types. Geometric operations are performed by [shapely](https://shapely.readthedocs.io/en/stable/manual.html). Geopandas further depends on [fiona](https://github.com/Toblerity/Fiona) for file access and [matplotlib](https://matplotlib.org/) for plotting."
   ]
  },
  {
   "cell_type": "markdown",
   "id": "6784f694",
   "metadata": {},
   "source": [
    "### OS Open Greenspace\n",
    "---\n",
    "\n",
    "The OS OpenData product [OS Open Greenspace](https://www.ordnancesurvey.co.uk/business-government/products/open-map-greenspace) depicts the location and extent of spaces such as parks and sports facilities that are likely to be accessible to the public. Where appropriate, it also includes Access Points to show how people get into these sites. Its primary purpose is to enable members of the public to find and access greenspaces near them for exercise and recreation.\n",
    "\n",
    "<img width=\"500\"\n",
    "     src=\"https://beta.ordnancesurvey.co.uk/img-assets/products/greenspace-open-london.x5201e7a5.jpg?w=1242&h=828&crop=828%2C828%2C207%2C0&f=webp?q=100&crop=2270,1422,0,0&w=1000\"\n",
    "     alt=\"OS Open Greenspace London\"\n",
    "     align=\"centre\" />"
   ]
  },
  {
   "cell_type": "code",
   "execution_count": 1,
   "id": "0edb397c",
   "metadata": {},
   "outputs": [
    {
     "name": "stderr",
     "output_type": "stream",
     "text": [
      "ERROR 1: PROJ: proj_create_from_database: Open of /cloud/lib/envs/training/share/proj failed\n"
     ]
    }
   ],
   "source": [
    "import fiona\n",
    "import geopandas as gpd"
   ]
  },
  {
   "cell_type": "markdown",
   "id": "535247f0",
   "metadata": {},
   "source": [
    "### List layers in GeoPackage (GPKG)"
   ]
  },
  {
   "cell_type": "code",
   "execution_count": 2,
   "id": "026aa85c",
   "metadata": {},
   "outputs": [],
   "source": [
    "path = \"../../data/ordnance-survey/os-open-greenspace-gb.gpkg\""
   ]
  },
  {
   "cell_type": "code",
   "execution_count": 3,
   "id": "0d5963c5",
   "metadata": {},
   "outputs": [
    {
     "data": {
      "text/plain": [
       "['access_point', 'greenspace_site']"
      ]
     },
     "execution_count": 3,
     "metadata": {},
     "output_type": "execute_result"
    }
   ],
   "source": [
    "fiona.listlayers(fp=path)"
   ]
  },
  {
   "cell_type": "markdown",
   "id": "0e83a067",
   "metadata": {},
   "source": [
    "###  Create GeoDataFrame from GPKG"
   ]
  },
  {
   "cell_type": "code",
   "execution_count": 4,
   "id": "658d4a2f",
   "metadata": {},
   "outputs": [],
   "source": [
    "# Create a GeoPandas GeoDataFrame from a GeoPackage (GPKG)\n",
    "osogs = gpd.read_file(\n",
    "    filename=path,\n",
    "    # GPKG layer\n",
    "    layer=\"greenspace_site\",\n",
    ")"
   ]
  },
  {
   "cell_type": "markdown",
   "id": "9e11d75a",
   "metadata": {},
   "source": [
    "### Return top n rows"
   ]
  },
  {
   "cell_type": "code",
   "execution_count": 5,
   "id": "b10473bf",
   "metadata": {},
   "outputs": [
    {
     "data": {
      "text/html": [
       "<div>\n",
       "<style scoped>\n",
       "    .dataframe tbody tr th:only-of-type {\n",
       "        vertical-align: middle;\n",
       "    }\n",
       "\n",
       "    .dataframe tbody tr th {\n",
       "        vertical-align: top;\n",
       "    }\n",
       "\n",
       "    .dataframe thead th {\n",
       "        text-align: right;\n",
       "    }\n",
       "</style>\n",
       "<table border=\"1\" class=\"dataframe\">\n",
       "  <thead>\n",
       "    <tr style=\"text-align: right;\">\n",
       "      <th></th>\n",
       "      <th>id</th>\n",
       "      <th>function</th>\n",
       "      <th>distinctive_name_1</th>\n",
       "      <th>distinctive_name_2</th>\n",
       "      <th>distinctive_name_3</th>\n",
       "      <th>distinctive_name_4</th>\n",
       "      <th>geometry</th>\n",
       "    </tr>\n",
       "  </thead>\n",
       "  <tbody>\n",
       "    <tr>\n",
       "      <th>0</th>\n",
       "      <td>0295ED12-FCD6-5C37-E063-AAEFA00A445E</td>\n",
       "      <td>Play Space</td>\n",
       "      <td>None</td>\n",
       "      <td>None</td>\n",
       "      <td>None</td>\n",
       "      <td>None</td>\n",
       "      <td>MULTIPOLYGON (((296898.000 668572.930, 296898....</td>\n",
       "    </tr>\n",
       "    <tr>\n",
       "      <th>1</th>\n",
       "      <td>0295ED00-FA59-5C37-E063-AAEFA00A445E</td>\n",
       "      <td>Religious Grounds</td>\n",
       "      <td>Grangemouth Gospel Trust Church</td>\n",
       "      <td>None</td>\n",
       "      <td>None</td>\n",
       "      <td>None</td>\n",
       "      <td>MULTIPOLYGON (((293715.730 679185.850, 293712....</td>\n",
       "    </tr>\n",
       "    <tr>\n",
       "      <th>2</th>\n",
       "      <td>0295ED69-4CAF-5C37-E063-AAEFA00A445E</td>\n",
       "      <td>Golf Course</td>\n",
       "      <td>Renfrew Golf Course</td>\n",
       "      <td>None</td>\n",
       "      <td>None</td>\n",
       "      <td>None</td>\n",
       "      <td>MULTIPOLYGON (((249732.430 668113.570, 249743....</td>\n",
       "    </tr>\n",
       "    <tr>\n",
       "      <th>3</th>\n",
       "      <td>0295ECD4-44A8-5C37-E063-AAEFA00A445E</td>\n",
       "      <td>Playing Field</td>\n",
       "      <td>None</td>\n",
       "      <td>None</td>\n",
       "      <td>None</td>\n",
       "      <td>None</td>\n",
       "      <td>MULTIPOLYGON (((337165.470 951341.430, 337169....</td>\n",
       "    </tr>\n",
       "    <tr>\n",
       "      <th>4</th>\n",
       "      <td>0295ECF7-B076-5C37-E063-AAEFA00A445E</td>\n",
       "      <td>Play Space</td>\n",
       "      <td>None</td>\n",
       "      <td>None</td>\n",
       "      <td>None</td>\n",
       "      <td>None</td>\n",
       "      <td>MULTIPOLYGON (((260972.210 666461.830, 260965....</td>\n",
       "    </tr>\n",
       "  </tbody>\n",
       "</table>\n",
       "</div>"
      ],
      "text/plain": [
       "                                     id           function  \\\n",
       "0  0295ED12-FCD6-5C37-E063-AAEFA00A445E         Play Space   \n",
       "1  0295ED00-FA59-5C37-E063-AAEFA00A445E  Religious Grounds   \n",
       "2  0295ED69-4CAF-5C37-E063-AAEFA00A445E        Golf Course   \n",
       "3  0295ECD4-44A8-5C37-E063-AAEFA00A445E      Playing Field   \n",
       "4  0295ECF7-B076-5C37-E063-AAEFA00A445E         Play Space   \n",
       "\n",
       "                distinctive_name_1 distinctive_name_2 distinctive_name_3  \\\n",
       "0                             None               None               None   \n",
       "1  Grangemouth Gospel Trust Church               None               None   \n",
       "2              Renfrew Golf Course               None               None   \n",
       "3                             None               None               None   \n",
       "4                             None               None               None   \n",
       "\n",
       "  distinctive_name_4                                           geometry  \n",
       "0               None  MULTIPOLYGON (((296898.000 668572.930, 296898....  \n",
       "1               None  MULTIPOLYGON (((293715.730 679185.850, 293712....  \n",
       "2               None  MULTIPOLYGON (((249732.430 668113.570, 249743....  \n",
       "3               None  MULTIPOLYGON (((337165.470 951341.430, 337169....  \n",
       "4               None  MULTIPOLYGON (((260972.210 666461.830, 260965....  "
      ]
     },
     "execution_count": 5,
     "metadata": {},
     "output_type": "execute_result"
    }
   ],
   "source": [
    "osogs.head(n=5)"
   ]
  },
  {
   "cell_type": "markdown",
   "id": "dd3086b8",
   "metadata": {},
   "source": [
    "### Return columns"
   ]
  },
  {
   "cell_type": "code",
   "execution_count": 6,
   "id": "78ec49b6",
   "metadata": {},
   "outputs": [
    {
     "data": {
      "text/plain": [
       "Index(['id', 'function', 'distinctive_name_1', 'distinctive_name_2',\n",
       "       'distinctive_name_3', 'distinctive_name_4', 'geometry'],\n",
       "      dtype='object')"
      ]
     },
     "execution_count": 6,
     "metadata": {},
     "output_type": "execute_result"
    }
   ],
   "source": [
    "osogs.columns"
   ]
  },
  {
   "cell_type": "markdown",
   "id": "d5470511",
   "metadata": {},
   "source": [
    "### Count rows"
   ]
  },
  {
   "cell_type": "code",
   "execution_count": 7,
   "id": "2c8eca08",
   "metadata": {},
   "outputs": [
    {
     "data": {
      "text/plain": [
       "150415"
      ]
     },
     "execution_count": 7,
     "metadata": {},
     "output_type": "execute_result"
    }
   ],
   "source": [
    "osogs.shape[0]"
   ]
  },
  {
   "cell_type": "markdown",
   "id": "5891d22a",
   "metadata": {},
   "source": [
    "### Check Coordinate Reference System (CRS) assignment"
   ]
  },
  {
   "cell_type": "code",
   "execution_count": 8,
   "id": "9b664341",
   "metadata": {},
   "outputs": [
    {
     "data": {
      "text/plain": [
       "<Projected CRS: EPSG:27700>\n",
       "Name: OSGB36 / British National Grid\n",
       "Axis Info [cartesian]:\n",
       "- E[east]: Easting (metre)\n",
       "- N[north]: Northing (metre)\n",
       "Area of Use:\n",
       "- name: United Kingdom (UK) - offshore to boundary of UKCS within 49°45'N to 61°N and 9°W to 2°E; onshore Great Britain (England, Wales and Scotland). Isle of Man onshore.\n",
       "- bounds: (-9.01, 49.75, 2.01, 61.01)\n",
       "Coordinate Operation:\n",
       "- name: British National Grid\n",
       "- method: Transverse Mercator\n",
       "Datum: Ordnance Survey of Great Britain 1936\n",
       "- Ellipsoid: Airy 1830\n",
       "- Prime Meridian: Greenwich"
      ]
     },
     "execution_count": 8,
     "metadata": {},
     "output_type": "execute_result"
    }
   ],
   "source": [
    "osogs.crs"
   ]
  },
  {
   "cell_type": "markdown",
   "id": "13e85505",
   "metadata": {},
   "source": [
    "### Count rows by geometry type"
   ]
  },
  {
   "cell_type": "code",
   "execution_count": 9,
   "id": "0cf8c9bd",
   "metadata": {},
   "outputs": [
    {
     "data": {
      "text/plain": [
       "MultiPolygon    150415\n",
       "Name: count, dtype: int64"
      ]
     },
     "execution_count": 9,
     "metadata": {},
     "output_type": "execute_result"
    }
   ],
   "source": [
    "osogs[\"geometry\"].geom_type.value_counts()"
   ]
  },
  {
   "cell_type": "markdown",
   "id": "cecfe884",
   "metadata": {},
   "source": [
    "### Check geometry validity"
   ]
  },
  {
   "cell_type": "code",
   "execution_count": 10,
   "id": "8be87eeb",
   "metadata": {},
   "outputs": [
    {
     "data": {
      "text/plain": [
       "True    150415\n",
       "Name: count, dtype: int64"
      ]
     },
     "execution_count": 10,
     "metadata": {},
     "output_type": "execute_result"
    }
   ],
   "source": [
    "osogs[\"geometry\"].is_valid.value_counts()"
   ]
  },
  {
   "cell_type": "markdown",
   "id": "a586522e",
   "metadata": {},
   "source": [
    "### Geospatial Data Abstraction Library (GDAL)\n",
    "\n",
    "A wide range of geospatial tooling is built ontop of the [Geospatial Data Abstraction Library (GDAL)](https://gdal.org/index.html) a translator library for raster and vector geospatial data formats.\n",
    "\n",
    "Support for raster and vector processing is compartmentalised into the OGR and GDAL library components respectively."
   ]
  },
  {
   "cell_type": "code",
   "execution_count": 11,
   "id": "2a71cb55",
   "metadata": {},
   "outputs": [
    {
     "name": "stdout",
     "output_type": "stream",
     "text": [
      "Usage: ogrinfo [--help-general] [-ro] [-q] [-where restricted_where|@filename]\r\n",
      "               [-spat xmin ymin xmax ymax] [-geomfield field] [-fid fid]\r\n",
      "               [-sql statement|@filename] [-dialect sql_dialect] [-al] [-rl] [-so] [-fields={YES/NO}]\r\n",
      "               [-geom={YES/NO/SUMMARY}] [[-oo NAME=VALUE] ...]\r\n",
      "               [-nomd] [-listmdd] [-mdd domain|`all`]*\r\n",
      "               [-nocount] [-noextent] [-nogeomtype] [-wkt_format WKT1|WKT2|...]\r\n",
      "               [-fielddomain name]\r\n",
      "               datasource_name [layer [layer ...]]\r\n"
     ]
    }
   ],
   "source": [
    "# Equivalent dataset inspection using OGR component of GDAL\n",
    "# https://gdal.org/programs/ogrinfo.html\n",
    "!/cloud/lib/envs/training/bin/ogrinfo --help"
   ]
  },
  {
   "cell_type": "code",
   "execution_count": 12,
   "id": "53d6fcdb",
   "metadata": {},
   "outputs": [
    {
     "name": "stdout",
     "output_type": "stream",
     "text": [
      "INFO: Open of `../../data/ordnance-survey/os-open-greenspace-gb.gpkg'\r\n",
      "      using driver `GPKG' successful.\r\n",
      "1: access_point (Point)\r\n",
      "2: greenspace_site (Multi Polygon)\r\n"
     ]
    }
   ],
   "source": [
    "!/cloud/lib/envs/training/bin/ogrinfo ../../data/ordnance-survey/os-open-greenspace-gb.gpkg"
   ]
  },
  {
   "cell_type": "code",
   "execution_count": 13,
   "id": "520c35a2",
   "metadata": {},
   "outputs": [
    {
     "name": "stdout",
     "output_type": "stream",
     "text": [
      "INFO: Open of `../../data/ordnance-survey/os-open-greenspace-gb.gpkg'\r\n",
      "      using driver `GPKG' successful.\r\n",
      "\r\n",
      "Layer name: greenspace_site\r\n",
      "Geometry: Multi Polygon\r\n",
      "Feature Count: 150415\r\n",
      "Extent: (9819.840000, 8274.570000) - (655229.500000, 1214133.190000)\r\n",
      "Layer SRS WKT:\r\n",
      "PROJCRS[\"OSGB 1936 / British National Grid\",\r\n",
      "    BASEGEOGCRS[\"OSGB 1936\",\r\n",
      "        DATUM[\"OSGB_1936\",\r\n",
      "            ELLIPSOID[\"Airy 1830\",6377563.396,299.3249646,\r\n",
      "                LENGTHUNIT[\"metre\",1]]],\r\n",
      "        PRIMEM[\"Greenwich\",0,\r\n",
      "            ANGLEUNIT[\"degree\",0.0174532925199433]],\r\n",
      "        ID[\"EPSG\",4277]],\r\n",
      "    CONVERSION[\"unnamed\",\r\n",
      "        METHOD[\"Transverse Mercator\",\r\n",
      "            ID[\"EPSG\",9807]],\r\n",
      "        PARAMETER[\"Latitude of natural origin\",49,\r\n",
      "            ANGLEUNIT[\"degree\",0.0174532925199433],\r\n",
      "            ID[\"EPSG\",8801]],\r\n",
      "        PARAMETER[\"Longitude of natural origin\",-2,\r\n",
      "            ANGLEUNIT[\"degree\",0.0174532925199433],\r\n",
      "            ID[\"EPSG\",8802]],\r\n",
      "        PARAMETER[\"Scale factor at natural origin\",0.9996012717,\r\n",
      "            SCALEUNIT[\"unity\",1],\r\n",
      "            ID[\"EPSG\",8805]],\r\n",
      "        PARAMETER[\"False easting\",400000,\r\n",
      "            LENGTHUNIT[\"metre\",1],\r\n",
      "            ID[\"EPSG\",8806]],\r\n",
      "        PARAMETER[\"False northing\",-100000,\r\n",
      "            LENGTHUNIT[\"metre\",1],\r\n",
      "            ID[\"EPSG\",8807]]],\r\n",
      "    CS[Cartesian,2],\r\n",
      "        AXIS[\"easting\",east,\r\n",
      "            ORDER[1],\r\n",
      "            LENGTHUNIT[\"metre\",1]],\r\n",
      "        AXIS[\"northing\",north,\r\n",
      "            ORDER[2],\r\n",
      "            LENGTHUNIT[\"metre\",1]],\r\n",
      "    ID[\"EPSG\",27700]]\r\n",
      "Data axis to CRS axis mapping: 1,2\r\n",
      "FID Column = fid\r\n",
      "Geometry Column = geometry\r\n",
      "id: String (0.0)\r\n",
      "function: String (0.0)\r\n",
      "distinctive_name_1: String (0.0)\r\n",
      "distinctive_name_2: String (0.0)\r\n",
      "distinctive_name_3: String (0.0)\r\n",
      "distinctive_name_4: String (0.0)\r\n"
     ]
    }
   ],
   "source": [
    "# -so provides a 'summary only' output, surpressing feature-level inspection\n",
    "!/cloud/lib/envs/training/bin/ogrinfo ../../data/ordnance-survey/os-open-greenspace-gb.gpkg greenspace_site  -so"
   ]
  },
  {
   "cell_type": "code",
   "execution_count": null,
   "id": "bc661796",
   "metadata": {},
   "outputs": [],
   "source": []
  }
 ],
 "metadata": {
  "kernelspec": {
   "display_name": "training",
   "language": "python",
   "name": "training"
  },
  "language_info": {
   "codemirror_mode": {
    "name": "ipython",
    "version": 3
   },
   "file_extension": ".py",
   "mimetype": "text/x-python",
   "name": "python",
   "nbconvert_exporter": "python",
   "pygments_lexer": "ipython3",
   "version": "3.11.7"
  }
 },
 "nbformat": 4,
 "nbformat_minor": 5
}
